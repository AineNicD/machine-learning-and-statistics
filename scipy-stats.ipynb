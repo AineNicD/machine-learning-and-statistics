{
 "cells": [
  {
   "cell_type": "markdown",
   "id": "55cfdee3",
   "metadata": {},
   "source": [
    "## References\n",
    "\n",
    "- Statistical functions (scipy.stats) — SciPy v1.7.1 Manual,[Docs.scipy.org](https://docs.scipy.org/doc/scipy/reference/stats.html)\n",
    "- SciPy - Stats\n",
    "[Tutorialspoint.com](https://www.tutorialspoint.com/scipy/scipy_stats.htm)\n",
    "- How Analysis of Variance (ANOVA) Works\n",
    "[Investopedia](https://www.investopedia.com/terms/a/anova.asp)\n",
    "- What is ANOVA (Analysis Of Variance) | Qualtrics\n",
    "[Qualtrics](https://www.qualtrics.com/uk/experience-management/research/anova/?rid=ip&prevsite=en&newsite=uk&geo=IE&geomatch=uk)"
   ]
  },
  {
   "cell_type": "code",
   "execution_count": null,
   "id": "3d5efd4b",
   "metadata": {},
   "outputs": [],
   "source": []
  }
 ],
 "metadata": {
  "kernelspec": {
   "display_name": "Python 3",
   "language": "python",
   "name": "python3"
  },
  "language_info": {
   "codemirror_mode": {
    "name": "ipython",
    "version": 3
   },
   "file_extension": ".py",
   "mimetype": "text/x-python",
   "name": "python",
   "nbconvert_exporter": "python",
   "pygments_lexer": "ipython3",
   "version": "3.8.8"
  }
 },
 "nbformat": 4,
 "nbformat_minor": 5
}
