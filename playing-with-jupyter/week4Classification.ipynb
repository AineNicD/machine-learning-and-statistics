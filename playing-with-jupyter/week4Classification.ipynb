{
 "cells": [
  {
   "cell_type": "markdown",
   "id": "1470faaa",
   "metadata": {},
   "source": [
    "to do: \"After reviewing the materials above, I recommend that you perform classification analysis in Jupyter on the Wine Quality Data Set available at the UC Irvine Machine Learning Repository.\" \n",
    "\n",
    "\n",
    "\n",
    "## References\n",
    "- Ian Mc loughlin course material \n",
    "- UCI Machine Learning Repository, [Archive.ics.uci.edu](https://archive.ics.uci.edu/ml/index.php) accessed 11/10/2021\n",
    "- UCI Machine Learning Repository:[Wine Quality Data Set](https://archive.ics.uci.edu/ml/datasets/Wine+Quality)\n",
    "-  Supervised learning [scikit-learn](https://scikit-learn.org/stable/supervised_learning.html)\n",
    "- \tsklearn.linear_model.LogisticRegression, [scikit-learn](https://scikit-learn.org/stable/modules/generated/sklearn.linear_model.LogisticRegression.html)\n",
    "- \tsklearn.neighbors.KNeighborsClassifier, [scikit-learn](https://scikit-learn.org/stable/modules/generated/sklearn.neighbors.KNeighborsClassifier.html#sklearn.neighbors.KNeighborsClassifier)"
   ]
  }
 ],
 "metadata": {
  "kernelspec": {
   "display_name": "Python 3",
   "language": "python",
   "name": "python3"
  },
  "language_info": {
   "codemirror_mode": {
    "name": "ipython",
    "version": 3
   },
   "file_extension": ".py",
   "mimetype": "text/x-python",
   "name": "python",
   "nbconvert_exporter": "python",
   "pygments_lexer": "ipython3",
   "version": "3.8.8"
  }
 },
 "nbformat": 4,
 "nbformat_minor": 5
}
