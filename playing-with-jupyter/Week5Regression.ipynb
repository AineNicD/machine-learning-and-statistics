{
 "cells": [
  {
   "cell_type": "markdown",
   "id": "3d821f09",
   "metadata": {},
   "source": [
    "<div class=\"alert alert-info\">\n",
    "  <strong>Note:</strong> This notebook is my work for week 5 in machine learning and statistics, the goal is to perform regression analysis using scikit-learn on any suitable data set that I find online. </div>\n",
    "\n",
    "\n",
    "\n",
    "## References\n",
    "- Ian Mc loughlin course material, [simple linear regression notebook](https://nbviewer.org/github/ianmcloughlin/jupyter-teaching-notebooks/blob/main/simple-linear-regression.ipynb),[Regression notebook](https://nbviewer.org/github/ianmcloughlin/jupyter-teaching-notebooks/blob/main/regression.ipynb)\n",
    "- numpy.polyfit - NumPy v1.21 Manual, [numpy.polyfit](https://numpy.org/doc/stable/reference/generated/numpy.polyfit.html) accessed 20/10/2021\n",
    "- Linear Regression in Python:[Real Python](https://realpython.com/linear-regression-in-python/)accessed 20/10/2021\n",
    "-  Supervised learning [scikit-learn](https://scikit-learn.org/stable/supervised_learning.html)accessed 21/10/2021\n",
    "- \tsklearn.linear_model.LogisticRegression, [scikit-learn](https://scikit-learn.org/stable/modules/generated/sklearn.linear_model.LogisticRegression.html) accessed 21/10/2021\n"
   ]
  },
  {
   "cell_type": "code",
   "execution_count": null,
   "id": "69626752",
   "metadata": {},
   "outputs": [],
   "source": [
    "# import libraries\n",
    "import pandas as pd\n",
    "import seaborn as sns\n",
    "import matplotlib.pyplot as plt\n",
    "plt.style.use(\"ggplot\")\n",
    "plt.rcParams[\"figure.figsize\"] = (14,10)\n",
    "import numpy as np\n",
    "\n",
    "#importing libraries for regression \n",
    "from sklearn.linear_model import LinearRegression\n",
    "from sklearn import metrics\n",
    "from sklearn.metrics import mean_squared_error\n",
    "from sklearn.metrics import r2_score\n",
    "import math"
   ]
  }
 ],
 "metadata": {
  "kernelspec": {
   "display_name": "Python 3",
   "language": "python",
   "name": "python3"
  },
  "language_info": {
   "codemirror_mode": {
    "name": "ipython",
    "version": 3
   },
   "file_extension": ".py",
   "mimetype": "text/x-python",
   "name": "python",
   "nbconvert_exporter": "python",
   "pygments_lexer": "ipython3",
   "version": "3.8.8"
  }
 },
 "nbformat": 4,
 "nbformat_minor": 5
}
