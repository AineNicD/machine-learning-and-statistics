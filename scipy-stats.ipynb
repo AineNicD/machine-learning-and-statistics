{
 "cells": [
  {
   "cell_type": "markdown",
   "id": "f69ac595",
   "metadata": {},
   "source": [
    "# Scipy.stats\n",
    "***\n",
    "\n",
    "\n",
    "### GMIT Machine Learning and Statistics\n",
    "***\n",
    "### Student: Aine Nic Dhonnacha\n",
    "***\n",
    "### Email: G00259400@gmit.ie\n",
    "***\n",
    "\n",
    " <img style=\"float: left;\" src=\"images/scipy-logo.png\" width=\"200\">\n"
   ]
  },
  {
   "cell_type": "markdown",
   "id": "24e3afe7",
   "metadata": {},
   "source": [
    " [image source](https://medium.com/python-data/scipy-stack-pythons-number-cruncher-9e4bcd906185) "
   ]
  },
  {
   "cell_type": "markdown",
   "id": "6c24d487",
   "metadata": {},
   "source": [
    "## Table of contents\n",
    "***\n",
    "* [An overview of the scipy-stats Python Library](#Anoverviewofthescipy-statsPythonLibrary)\n",
    "   * [Scipy-stats Probability distributions](#pd)\n",
    "       * [Scipy-stats.norm](#norm)\n",
    "       * [scipy.stats.uniform](#uniform)\n",
    "       * [scipy.stats.binom](#binomial)\n",
    "       * [scipy.stats.bernoulli ](#bern)\n",
    "       * [scipy.stats.rv_histogram](#rv_h)\n",
    "   * [Descriptive Statistics ](#descriptive)  \n",
    "   * [Statistical tests with scipy.stats](#stattest)\n",
    "       * [Scipy.stats Independent T-test](#indep_ttest)\n",
    "         * [Shapiro-Wilk (SW) test](sharpiro-wilk)\n",
    "         * [Kolmogorov-Smirnov (KS) test](#KS)\n",
    "       * [Equality of Variance Tests](#EQV)\n",
    "         * [Barlett's test](#Barlett)\n",
    "         * [Levene's test](#levene_test)\n",
    "* [Anova](#Anova)\n",
    "   * [Assumptions of Anova](#anovass)\n",
    "   * [An example hypothesis test using ANOVA](#AnexamplehypothesistestusingANOVA)\n",
    "       * [One-way Anova](#one-wayAnova)\n",
    "           * [Choosing an appropriate data set](#Choosing)\n",
    "           * [Testing Assumptions](#Assumptions)\n",
    "           * [Conducting an one-way ANOVA using scipy.stats](#conducting)\n",
    "           * [Post-hoc Testing](#Post-hocTesting)\n",
    "       * [Two-way Anova](#twoway)\n",
    "* [References](#References)\n",
    "\n"
   ]
  },
  {
   "cell_type": "markdown",
   "id": "32fcaa04",
   "metadata": {},
   "source": [
    "## Import libraries:\n",
    "<div class=\"alert alert-info\">\n",
    "    <strong>Note:</strong>\n",
    "The main libraries used are listed here,  scipy.stats specific imports are within the codes where they are used.  </div>\n",
    "\n",
    "***"
   ]
  },
  {
   "cell_type": "code",
   "execution_count": 1,
   "id": "51f9880d",
   "metadata": {},
   "outputs": [],
   "source": [
    "# Python library which is used to solve scientific and mathematical problems.\n",
    "import scipy\n",
    "# sciPy statistical functions. \n",
    "import scipy.stats as stats\n",
    "\n",
    "# Data frames.\n",
    "import pandas as pd\n",
    "# Produces Pandas DataFrames that contain relevant statistical testing information.\n",
    "import researchpy as rp\n",
    "\n",
    "# Numerical arrays.\n",
    "import numpy as np\n",
    "\n",
    "# Provides a selection of efficient tools for machine learning and statistical modeling.\n",
    "import sklearn \n",
    "# Sklearn built in datasets\n",
    "import sklearn.datasets as datasets\n",
    "\n",
    "# Collections, containers used for storing data.\n",
    "import collections as co\n",
    "\n",
    "# Numerous special functions of mathematical physics.\n",
    "import scipy.special as spec\n",
    "\n",
    "# Alternative statistics package.\n",
    "import statsmodels.stats.weightstats as stat\n",
    "# provides classes and functions for the estimation of many different statistical models\n",
    "import statsmodels.api as sm\n",
    "# creates a Model from a formula and dataframe.\n",
    "from statsmodels.formula.api import ols\n",
    "# Anova table for one or more fitted linear models.\n",
    "from statsmodels.stats.anova import anova_lm\n",
    "# A convenience interface for specifying models using formula strings and DataFrames\n",
    "import statsmodels.formula.api as smf\n",
    "\n",
    "\n",
    "# Plotting library.\n",
    "import matplotlib.pyplot as plt \n",
    "# Plot style.\n",
    "plt.style.use(\"ggplot\")\n",
    "# Bigger plots.\n",
    "plt.rcParams[\"figure.figsize\"] = (15,10)\n",
    "#  Python data visualization library based on matplotlib.\n",
    "import seaborn as sns\n",
    "\n",
    "# Suppress Warnings \n",
    "# I fixed all the warnings I could and then found this method for supressing the ones that are warning about future issues. \n",
    "import warnings\n",
    "warnings.filterwarnings(\"ignore\")"
   ]
  },
  {
   "cell_type": "markdown",
   "id": "2803a90b",
   "metadata": {},
   "source": [
    "# An overview of the scipy-stats Python Library <a name = \"Anoverviewofthescipy-statsPythonLibrary\"></a>\n",
    "\n",
    "\n",
    "SciPy is a scientific computation library that uses NumPy underneath.\n",
    "SciPy stands for Scientific Python. \n",
    "All of the statistics functions are located in the sub-package <b>scipy.stats</b>. \n",
    "A complete list of these functions can be obtainted using the following command. \n",
    "\n",
    " `scipy.info(stats)`\n",
    " \n",
    " <br>\n",
    " \n",
    "[Tutorialspoint.com](https://www.tutorialspoint.com/scipy/scipy_stats.htm)\n",
    "\n",
    " <br>\n",
    " \n",
    "This produces a long list of information about the statistical functions in the module. Scipy.stats contains a large number of probability distributions as well as a growing library of statistical functions. Each univariate distribution is an instance of a subclass of `rv_continuous`and `rv_discrete` for discrete distributions. It also contains Correlation functions such as `f_oneway` which is used in one-way-Anova. Statistical tests such as `ttest_1samp` which is used to calculate the T-test for the mean of one group of scores. For a full list of statistical functions within the package see the  [scipy.stats documentation](https://docs.scipy.org/doc/scipy/reference/stats.html). \n",
    "Scipy-stats is mainly used for probabilistic distributions and statistical operations. "
   ]
  },
  {
   "cell_type": "markdown",
   "id": "fe1fc9cf",
   "metadata": {},
   "source": [
    "## Scipy-stats Probability distributions  <a name = \"pd\"></a>\n",
    "\n",
    "Each univariate distribution has its own subclass as described in the following table −\n",
    "\n",
    "![image](images/class-description.png)\n",
    "[image source](https://www.tutorialspoint.com/scipy/scipy_stats.htm)"
   ]
  },
  {
   "cell_type": "markdown",
   "id": "0ff396ff",
   "metadata": {},
   "source": [
    "### Scipy.stats.norm <a name =\"norm\"> </a> (rv_continuous)\n",
    "\n",
    "Continuous random variable is a probability distribution in which the random variable X can have any value.\n",
    "The mean is specified by the location `loc` keyword.\n",
    "The standard deviation is specified via the scale `scale` keyword.\n",
    "\n",
    "The norm object inherits a collection of generic methods from the rv continuous class and completes them with details specific to the particular distribution. [(tutorialspoint)](https://www.tutorialspoint.com/scipy/scipy_stats.htm)\n",
    "\n",
    "We can pass a list or a NumPy array to compute the Cumulative distribution function at a number of points. In probability theory and statistics,  the cumulative distribution function (often shortend to CDF) of a real-valued random variable X, or simply distribution function of X, assessed at x, is the probability that X will take a value less than or equal to x. [(CDF definition)](https://en.wikipedia.org/wiki/Cumulative_distribution_function)\n",
    "\n",
    "\n",
    "\n",
    "\n",
    "\n",
    "~~~\n",
    "scipy.stats.norm = <scipy.stats._continuous_distns.norm_gen object>\n",
    "~~~\n",
    "[(scipy documentation)](https://docs.scipy.org/doc/scipy/reference/generated/scipy.stats.norm.html)\n"
   ]
  },
  {
   "cell_type": "code",
   "execution_count": 2,
   "id": "0fcc7dac",
   "metadata": {},
   "outputs": [
    {
     "name": "stdout",
     "output_type": "stream",
     "text": [
      "[0.84134475 0.15865525 0.5        0.84134475 0.9986501  0.99996833\n",
      " 0.02275013 1.        ]\n"
     ]
    }
   ],
   "source": [
    "# import scpi.stats norm rv_continuous distribution\n",
    "from scipy.stats import norm\n",
    "\n",
    "# the norm.cdf command finds the cumulative distribution function of the given random variables\n",
    "print (norm.cdf(np.array([1,-1., 0, 1, 3, 4, -2, 6])))"
   ]
  },
  {
   "cell_type": "markdown",
   "id": "cd638b5e",
   "metadata": {},
   "source": [
    "You can generate a normally distributed random variable using scipy.stats module's <b> norm.rvs()</b> method. The loc argument corresponds to the mean of the distribution. scale corresponds to standard deviation and size to the number of random variates. [(scipy documentation)](https://docs.scipy.org/doc/scipy/reference/generated/scipy.stats.norm.html)"
   ]
  },
  {
   "cell_type": "code",
   "execution_count": 3,
   "id": "0fdf218b",
   "metadata": {},
   "outputs": [
    {
     "data": {
      "text/plain": [
       "<seaborn.axisgrid.FacetGrid at 0x2c9fe6219a0>"
      ]
     },
     "execution_count": 3,
     "metadata": {},
     "output_type": "execute_result"
    },
    {
     "data": {
      "image/png": "[encoded data removed]",
      "text/plain": [
       "<Figure size 360x360 with 1 Axes>"
      ]
     },
     "metadata": {},
     "output_type": "display_data"
    }
   ],
   "source": [
    "# generate random variables from N(0,1)\n",
    "data_normal = norm.rvs(size=10000,loc=0,scale=1)\n",
    "\n",
    "# plot the random random variables\n",
    "ax = sns.displot(data_normal)\n",
    "ax.set(xlabel='Normal Distribution', ylabel='Frequency')"
   ]
  },
  {
   "cell_type": "markdown",
   "id": "ccc470fc",
   "metadata": {},
   "source": [
    "The Percent Point Function (PPF), which is the inverse of the cumulative distribution function (CDF), can be used to find the median of a distribution. [(scipy documentation)](https://docs.scipy.org/doc/scipy/reference/generated/scipy.stats.norm.html)"
   ]
  },
  {
   "cell_type": "code",
   "execution_count": 4,
   "id": "a72cf151",
   "metadata": {},
   "outputs": [
    {
     "name": "stdout",
     "output_type": "stream",
     "text": [
      "0.0\n"
     ]
    }
   ],
   "source": [
    "# finding the percent point of 0.5\n",
    "print(norm.ppf(0.5))"
   ]
  },
  {
   "cell_type": "code",
   "execution_count": 5,
   "id": "85b61eeb",
   "metadata": {},
   "outputs": [
    {
     "name": "stdout",
     "output_type": "stream",
     "text": [
      "[ 0.50596476  1.16356843  0.40213622 -1.44237155  0.55464524]\n"
     ]
    }
   ],
   "source": [
    "# Random variates of given type.\n",
    "print (norm.rvs(size = 5))"
   ]
  },
  {
   "cell_type": "markdown",
   "id": "b38b4648",
   "metadata": {},
   "source": [
    "## scipy.stats.uniform <a name = \"uniform\"></a> (rv_continuous)\n",
    "\n",
    "In statistics, uniform distribution refers to a type of probability distribution in which all outcomes are equally likely.\n",
    " [(scipy documentation)](https://docs.scipy.org/doc/scipy/reference/generated/scipy.stats.norm.html)"
   ]
  },
  {
   "cell_type": "markdown",
   "id": "7258d159",
   "metadata": {},
   "source": [
    "~~~\n",
    "scipy.stats.uniform = <scipy.stats._continuous_distns.uniform_gen object>\n",
    "~~~"
   ]
  },
  {
   "cell_type": "code",
   "execution_count": 6,
   "id": "833e3460",
   "metadata": {},
   "outputs": [
    {
     "name": "stdout",
     "output_type": "stream",
     "text": [
      "[0.   0.   0.25 0.5  0.75 1.  ]\n"
     ]
    }
   ],
   "source": [
    "#import scipy uniform distribution\n",
    "from scipy.stats import uniform\n",
    "#print the uniform cumulative distribution function of the following array\n",
    "print (uniform.cdf([0, 1, 2, 3, 4, 5], loc = 1, scale = 4))"
   ]
  },
  {
   "cell_type": "markdown",
   "id": "bd800176",
   "metadata": {},
   "source": [
    "## scipy.stats.binom  <a name = \"binomial\"></a> (rv_discrete)\n",
    "A binomial discrete random variable. <b>binom.rvs()</b> method takes n (number of trials) and p (probability of success) as shape parameters. Size decides the number of times to repeat the trials. [(scipy documentation)](https://docs.scipy.org/doc/scipy/reference/generated/scipy.stats.norm.html)\n"
   ]
  },
  {
   "cell_type": "code",
   "execution_count": 7,
   "id": "5eaa21cb",
   "metadata": {},
   "outputs": [],
   "source": [
    "from scipy.stats import binom\n",
    "\n",
    "# 10 number of trials, 50% probability of success repeated 1000 times\n",
    "data_binom = binom.rvs(n=10,p=0.5,size=100)"
   ]
  },
  {
   "cell_type": "code",
   "execution_count": 8,
   "id": "a1caa20b",
   "metadata": {},
   "outputs": [
    {
     "data": {
      "text/plain": [
       "<seaborn.axisgrid.FacetGrid at 0x2c9848d1550>"
      ]
     },
     "execution_count": 8,
     "metadata": {},
     "output_type": "execute_result"
    },
    {
     "data": {
      "image/png": "[encoded data removed]",
      "text/plain": [
       "<Figure size 360x360 with 1 Axes>"
      ]
     },
     "metadata": {},
     "output_type": "display_data"
    }
   ],
   "source": [
    "# plot \n",
    "ax = sns.displot(data_binom)\n",
    "ax.set(xlabel='Binomial Distribution', ylabel='Frequency')"
   ]
  },
  {
   "cell_type": "markdown",
   "id": "145f53f2",
   "metadata": {},
   "source": [
    "<b>scipy.stats.binom_test(k, n, p=0.5, alternative='two-sided')</b>\n",
    "performs a test that the probability of success is p."
   ]
  },
  {
   "cell_type": "markdown",
   "id": "a1826d68",
   "metadata": {},
   "source": [
    "Here is a great example from the scipy-stats documentation: "
   ]
  },
  {
   "cell_type": "markdown",
   "id": "f19d4fef",
   "metadata": {},
   "source": [
    "A car manufacturer claims that no more than 10% of their cars are unsafe. 15 cars are inspected for safety, 3 were found to be unsafe. Test the manufacturer’s claim:"
   ]
  },
  {
   "cell_type": "code",
   "execution_count": 9,
   "id": "d4476eed",
   "metadata": {},
   "outputs": [
    {
     "data": {
      "text/plain": [
       "0.18406106910639114"
      ]
     },
     "execution_count": 9,
     "metadata": {},
     "output_type": "execute_result"
    }
   ],
   "source": [
    "#import binom test to test the probability of success is p \n",
    "stats.binom_test(3, n=15, p=0.1, alternative='greater')\n"
   ]
  },
  {
   "cell_type": "markdown",
   "id": "c50af485",
   "metadata": {},
   "source": [
    "The null hypothesis cannot be rejected at the 5% level of significance because the returned p-value is greater than the critical value of 5%. [scipy documentation](https://docs.scipy.org/doc/scipy/reference/generated/scipy.stats.binom_test.html)"
   ]
  },
  {
   "cell_type": "markdown",
   "id": "c751a8f6",
   "metadata": {},
   "source": [
    "### scipy.stats.bernoulli <a name = \"bern\"></a> ( rv_discrete )\n",
    "~~~\n",
    "scipy.stats.bernoulli = <scipy.stats._discrete_distns.bernoulli_gen object>\n",
    "~~~\n",
    "A Bernoulli distribution has only two possible outcomes, namely 1 (success) and 0 (failure), and a single trial, for example, a coin toss.\n",
    "The `bernoulli.rvs()` method  takes p (probability of success) as a shape parameter. `loc` parameter can be used to shift the distribution. Size decides the number of times to repeat the trials.. [(datacamp)](https://www.datacamp.com/community/tutorials/probability-distributions-python)\n",
    "\n"
   ]
  },
  {
   "cell_type": "code",
   "execution_count": 10,
   "id": "85ca79d0",
   "metadata": {},
   "outputs": [],
   "source": [
    "# import bernouilli distribution\n",
    "from scipy.stats import bernoulli\n",
    "# 10000 trials with a probability of 60%\n",
    "data_bern = bernoulli.rvs(size=10000,p=0.6)"
   ]
  },
  {
   "cell_type": "code",
   "execution_count": 11,
   "id": "fde64121",
   "metadata": {},
   "outputs": [
    {
     "data": {
      "text/plain": [
       "<seaborn.axisgrid.FacetGrid at 0x2c9fe628fa0>"
      ]
     },
     "execution_count": 11,
     "metadata": {},
     "output_type": "execute_result"
    },
    {
     "data": {
      "image/png": "[encoded data removed]",
      "text/plain": [
       "<Figure size 360x360 with 1 Axes>"
      ]
     },
     "metadata": {},
     "output_type": "display_data"
    }
   ],
   "source": [
    "#plot of above probability\n",
    "ax= sns.displot(data_bern)\n",
    "ax.set(xlabel='Bernoulli Distribution', ylabel='Frequency')"
   ]
  },
  {
   "cell_type": "markdown",
   "id": "b10b3cd3",
   "metadata": {},
   "source": [
    "We can see two possible outcomes in the visualisation. "
   ]
  },
  {
   "cell_type": "markdown",
   "id": "ce78d85c",
   "metadata": {},
   "source": [
    "### scipy.stats.rv_histogram <a name = \"rv_h\"></a>\n",
    "Generates a distribution given by a histogram. This is useful to generate a template distribution from a binned\n",
    "data sample. Binning is a way to group a number of more or less continuous values into a smaller number of \"bins\". [(What is binning?)](https://docs.tibco.com/pub/spotfire/7.0.1/doc/html/bin/bin_what_is_binning.htm)"
   ]
  },
  {
   "cell_type": "markdown",
   "id": "7406463e",
   "metadata": {},
   "source": [
    "You can create a scipy.stats distribution from a numpy histogram [(scipy documentation)](https://docs.scipy.org/doc/scipy/reference/generated/scipy.stats.rv_histogram.html)"
   ]
  },
  {
   "cell_type": "code",
   "execution_count": 12,
   "id": "22f98d56",
   "metadata": {},
   "outputs": [],
   "source": [
    "# making a nupy histogram with scipy.stats.rv()\n",
    "data = scipy.stats.norm.rvs(size=100000, loc=0, scale=1.5, random_state=123)\n",
    "hist = np.histogram(data, bins=100)\n",
    "hist_dist = scipy.stats.rv_histogram(hist)"
   ]
  },
  {
   "cell_type": "code",
   "execution_count": 13,
   "id": "8ba8e768",
   "metadata": {},
   "outputs": [
    {
     "data": {
      "text/plain": [
       "0.20538577847618705"
      ]
     },
     "execution_count": 13,
     "metadata": {},
     "output_type": "execute_result"
    }
   ],
   "source": [
    "# Behaves like an ordinary scipy rv_continuous distribution\n",
    "# Percent point function \n",
    "hist_dist.pdf(1.0)"
   ]
  },
  {
   "cell_type": "code",
   "execution_count": 14,
   "id": "9345b887",
   "metadata": {},
   "outputs": [
    {
     "data": {
      "text/plain": [
       "0.908185685430565"
      ]
     },
     "execution_count": 14,
     "metadata": {},
     "output_type": "execute_result"
    }
   ],
   "source": [
    "# Cumulative distribution function of the given RV.\n",
    "hist_dist.cdf(2.0)"
   ]
  },
  {
   "cell_type": "markdown",
   "id": "21861cad",
   "metadata": {},
   "source": [
    "PDF is zero above (below) the highest (lowest) bin of the histogram,\n",
    "defined by the max (min) of the original dataset"
   ]
  },
  {
   "cell_type": "code",
   "execution_count": 15,
   "id": "fe990744",
   "metadata": {},
   "outputs": [
    {
     "data": {
      "text/plain": [
       "0.0"
      ]
     },
     "execution_count": 15,
     "metadata": {},
     "output_type": "execute_result"
    }
   ],
   "source": [
    "# PDF is zero above (below) the highest (lowest) bin of the histogram,\n",
    "# defined by the max (min) of the original dataset\n",
    "hist_dist.pdf(np.max(data))"
   ]
  },
  {
   "cell_type": "code",
   "execution_count": 16,
   "id": "44941791",
   "metadata": {},
   "outputs": [
    {
     "data": {
      "text/plain": [
       "1.0"
      ]
     },
     "execution_count": 16,
     "metadata": {},
     "output_type": "execute_result"
    }
   ],
   "source": [
    "\n",
    "hist_dist.cdf(np.max(data))"
   ]
  },
  {
   "cell_type": "code",
   "execution_count": 17,
   "id": "072bd0d3",
   "metadata": {},
   "outputs": [
    {
     "data": {
      "text/plain": [
       "7.759190724449831e-05"
      ]
     },
     "execution_count": 17,
     "metadata": {},
     "output_type": "execute_result"
    }
   ],
   "source": [
    "hist_dist.pdf(np.min(data))\n"
   ]
  },
  {
   "cell_type": "code",
   "execution_count": 18,
   "id": "946d98bf",
   "metadata": {},
   "outputs": [
    {
     "data": {
      "text/plain": [
       "0.0"
      ]
     },
     "execution_count": 18,
     "metadata": {},
     "output_type": "execute_result"
    }
   ],
   "source": [
    "hist_dist.cdf(np.min(data))\n"
   ]
  },
  {
   "cell_type": "code",
   "execution_count": 19,
   "id": "52ae9d4e",
   "metadata": {},
   "outputs": [
    {
     "data": {
      "image/png": "[encoded data removed]",
      "text/plain": [
       "<Figure size 1080x720 with 1 Axes>"
      ]
     },
     "metadata": {},
     "output_type": "display_data"
    }
   ],
   "source": [
    "#  PDF and CDF follow the histogram\n",
    "import matplotlib.pyplot as plt\n",
    "X = np.linspace(-5.0, 5.0, 100)\n",
    "plt.title(\"PDF from Template\")\n",
    "plt.hist(data, density=True, bins=100)\n",
    "plt.plot(X, hist_dist.pdf(X), label='PDF')\n",
    "plt.plot(X, hist_dist.cdf(X), label='CDF')\n",
    "plt.show()"
   ]
  },
  {
   "cell_type": "markdown",
   "id": "f5155445",
   "metadata": {},
   "source": [
    "## Descriptive Statistics<a name = \"descriptive\"></a>"
   ]
  },
  {
   "cell_type": "markdown",
   "id": "431ef534",
   "metadata": {},
   "source": [
    "The basic stats such as Min, Max, Mean and Variance takes the NumPy array as input and returns the respective results. A few basic statistical functions available in the scipy.stats package are described in the following few paragraphs.  [(scipy documentation)](https://docs.scipy.org/doc/scipy/reference/generated/scipy.stats.describe.html)\n",
    "\n"
   ]
  },
  {
   "cell_type": "markdown",
   "id": "9658b88a",
   "metadata": {},
   "source": [
    "`scipy.stats.describe(array, axis=0)` -  computes the descriptive statistics of the passed array elements along the specified axis of the array. "
   ]
  },
  {
   "cell_type": "code",
   "execution_count": 20,
   "id": "8c663ba5",
   "metadata": {},
   "outputs": [
    {
     "name": "stdout",
     "output_type": "stream",
     "text": [
      "No. of observations is :\n",
      " DescribeResult(nobs=3, minmax=(3, 27), mean=13.0, variance=156.0, skewness=0.5280049792181878, kurtosis=-1.5)\n"
     ]
    }
   ],
   "source": [
    "# Input array having the elements to calculate the statistics.\n",
    "array = [9, 3, 27] \n",
    "   \n",
    "# pass array into stats.describe() \n",
    "describing = stats.describe(array)\n",
    "\n",
    "# Returns : Statistics of the array elements based on the set parameters.\n",
    "print(\"No. of observations is :\\n\", describing) "
   ]
  },
  {
   "cell_type": "markdown",
   "id": "e6594586",
   "metadata": {},
   "source": [
    "`scipy.stats.mstats.gmean(a, axis=0, dtype=None, weights=None)` - Computes the geometric mean along the specified axis."
   ]
  },
  {
   "cell_type": "code",
   "execution_count": 21,
   "id": "3aac69a3",
   "metadata": {},
   "outputs": [
    {
     "data": {
      "text/plain": [
       "2.0"
      ]
     },
     "execution_count": 21,
     "metadata": {},
     "output_type": "execute_result"
    }
   ],
   "source": [
    "# import gmean\n",
    "from scipy.stats import gmean\n",
    "\n",
    "# Return the geometric average of the array. \n",
    "gmean([1, 4])"
   ]
  },
  {
   "cell_type": "markdown",
   "id": "fe2ffcd0",
   "metadata": {},
   "source": [
    "`scipy.stats.hmean(array, axis=0, dtype=None)` -  calculates the harmonic mean of the array elements along the specified axis of the array.  ![image](images/HarmonicMean.png) [image source](https://www.geeksforgeeks.org/scipy-stats-hmean-python/)"
   ]
  },
  {
   "cell_type": "code",
   "execution_count": 22,
   "id": "29587051",
   "metadata": {},
   "outputs": [
    {
     "name": "stdout",
     "output_type": "stream",
     "text": [
      "Harmonic Mean is : 2.1891891891891895\n"
     ]
    }
   ],
   "source": [
    "# Harmonic Mean \n",
    "from scipy.stats.mstats import hmean \n",
    "array = hmean([1, 3, 27]) \n",
    "   \n",
    "print(\"Harmonic Mean is :\", array) "
   ]
  },
  {
   "cell_type": "markdown",
   "id": "21d5719a",
   "metadata": {},
   "source": [
    "` scipy.stats.kurtosis(a, axis=0, fisher=True, bias=True, nan_policy='propagate')` - Compute the kurtosis (Fisher or Pearson) of a dataset. Kurtosis is the fourth central moment divided by the square of the variance. If Fisher’s definition is used, then 3.0 is subtracted from the result to give 0.0 for a normal distribution.\n",
    "\n",
    "If bias is False then the kurtosis is calculated using k statistics to eliminate bias coming from biased moment estimators. [(scipy documentation)](https://docs.scipy.org/doc/scipy/reference/generated/scipy.stats.kurtosis.html)\n",
    "In simple terms, one can say it is a measure of how heavy tail is compared to a normal distribution.\n",
    "\n",
    "![image](images/kurtosis.png)"
   ]
  },
  {
   "cell_type": "code",
   "execution_count": 23,
   "id": "08d78685",
   "metadata": {},
   "outputs": [
    {
     "name": "stdout",
     "output_type": "stream",
     "text": [
      "\n",
      "Kurtosis for normal distribution : -0.3073930877422071\n",
      "\n",
      "Kurtosis for normal distribution : 2.692606912257793\n",
      "\n",
      "Kurtosis for normal distribution : -0.3073930877422071\n"
     ]
    },
    {
     "data": {
      "image/png": "[encoded data removed]",
      "text/plain": [
       "<Figure size 1080x720 with 1 Axes>"
      ]
     },
     "metadata": {},
     "output_type": "display_data"
    }
   ],
   "source": [
    "# Graph using numpy.linspace() \n",
    "# finding kurtosis\n",
    "# https://www.geeksforgeeks.org/scipy-stats-kurtosis-function-python/?ref=gcse\n",
    "  \n",
    "from scipy.stats import kurtosis\n",
    "import numpy as np \n",
    "import pylab as p \n",
    "  \n",
    "x1 = np.linspace( -5, 5, 1000 )\n",
    "y1 = 1./(np.sqrt(2.*np.pi)) * np.exp( -.5*(x1)**2  )\n",
    "  \n",
    "p.plot(x1, y1, '*')\n",
    "  \n",
    "  \n",
    "print( '\\nKurtosis for normal distribution :', kurtosis(y1))\n",
    "  \n",
    "print( '\\nKurtosis for normal distribution :', \n",
    "      kurtosis(y1, fisher = False))\n",
    "  \n",
    "print( '\\nKurtosis for normal distribution :', \n",
    "      kurtosis(y1, fisher = True))\n",
    "\n"
   ]
  },
  {
   "cell_type": "markdown",
   "id": "3f2cf110",
   "metadata": {},
   "source": [
    "The Laplace distribution has a heavier tail than the normal distribution. The uniform distribution (which has negative kurtosis) has the thinnest tail. [(geeksforgeeks)](https://www.geeksforgeeks.org/scipy-stats-kurtosis-function-python/?ref=gcse)"
   ]
  },
  {
   "cell_type": "markdown",
   "id": "d1445c1b",
   "metadata": {},
   "source": [
    "`scipy.stats.mode(array, axis=0)` -  function calculates the mode of the array elements along the specified axis of the array. ![image](images/Mode.png) [image source](https://www.geeksforgeeks.org/scipy-stats-mode-function-python/) "
   ]
  },
  {
   "cell_type": "markdown",
   "id": "8410ee93",
   "metadata": {},
   "source": [
    "where,\n",
    "- l : Lower Boundary of modal class\n",
    "- h : Size of modal class\n",
    "- fm : Frequency corresponding to modal class\n",
    "- f1 : Frequency preceding  to modal class\n",
    "- f2 : Frequency proceeding to modal class\n",
    "- [(geeksforgeeks)](https://www.geeksforgeeks.org/scipy-stats-mode-function-python/)\n",
    "\n"
   ]
  },
  {
   "cell_type": "code",
   "execution_count": 24,
   "id": "c4102984",
   "metadata": {},
   "outputs": [
    {
     "name": "stdout",
     "output_type": "stream",
     "text": [
      "Arithmetic mode is : \n",
      " ModeResult(mode=array([[1, 3, 8, 4, 7, 9]]), count=array([[1, 1, 1, 1, 1, 1]]))\n"
     ]
    }
   ],
   "source": [
    "# Arithmetic mode  \n",
    "#Axis along which the mode is to be computed.\n",
    "arr = np.array([[1, 3, 27, 13, 21, 9],\n",
    "                [8, 12, 8, 4, 7, 10]]) \n",
    "   \n",
    " # print Modal values of the array elements based on the set parameters. \n",
    "print(\"Arithmetic mode is : \\n\", stats.mode(arr)) "
   ]
  },
  {
   "cell_type": "markdown",
   "id": "a2a0762a",
   "metadata": {},
   "source": [
    "`scipy.stats.skew(array, axis=0, bias=True)` - function calculates the skewness of the data set.\n",
    "\n",
    "skewness = 0 : normally distributed.\n",
    "skewness > 0 : more weight in the left tail of the distribution.\n",
    "skewness < 0 : more weight in the right tail of the distribution. \n",
    "\n",
    "![image](images/skewness.png) [image source](https://www.geeksforgeeks.org/scipy-stats-skew-python/) "
   ]
  },
  {
   "cell_type": "code",
   "execution_count": 25,
   "id": "78e9333a",
   "metadata": {},
   "outputs": [
    {
     "name": "stdout",
     "output_type": "stream",
     "text": [
      "\n",
      "Skewness for data :  1.1108237139164436\n"
     ]
    },
    {
     "data": {
      "image/png": "[encoded data removed]",
      "text/plain": [
       "<Figure size 1080x720 with 1 Axes>"
      ]
     },
     "metadata": {},
     "output_type": "display_data"
    }
   ],
   "source": [
    "# https://www.geeksforgeeks.org/program-find-skewness-statistical-data/\n",
    "# Graph using numpy.linspace() \n",
    "# finding Skewness\n",
    "\n",
    "from scipy.stats import skew\n",
    "import pylab as p \n",
    "  \n",
    "x1 = np.linspace( -5, 5, 1000 )\n",
    "y1 = 1./(np.sqrt(2.*np.pi)) * np.exp( -.5*(x1)**2  )\n",
    "  \n",
    "p.plot(x1, y1, '*')\n",
    "  \n",
    "print( '\\nSkewness for data : ', skew(y1))"
   ]
  },
  {
   "cell_type": "markdown",
   "id": "01b5f734",
   "metadata": {},
   "source": [
    "`scipy.stats.iqr(x, axis=None, rng=(25, 75), scale='raw', nan_policy='propagate', interpolation='linear', keepdims=False)` - Compute the interquartile range of the data along the specified axis.  [(scipy documentation)](https://docs.scipy.org/doc/scipy/reference/generated/scipy.stats.iqr.html)"
   ]
  },
  {
   "cell_type": "code",
   "execution_count": 26,
   "id": "d3e4a1b5",
   "metadata": {},
   "outputs": [
    {
     "data": {
      "text/plain": [
       "4.0"
      ]
     },
     "execution_count": 26,
     "metadata": {},
     "output_type": "execute_result"
    }
   ],
   "source": [
    "# Interquartile range using scipy.stats.iqr\n",
    "from scipy.stats import iqr\n",
    "x = np.array([[10, 7, 4], [3, 2, 1]])\n",
    "x\n",
    "iqr(x)"
   ]
  },
  {
   "cell_type": "markdown",
   "id": "24ac2312",
   "metadata": {},
   "source": [
    "`scipy.stats.zscore(a, axis=0, ddof=0, nan_policy='propagate')` - Computes the z score of each value in the sample, relative to the sample mean and standard deviation. [(scipy documentation)](https://docs.scipy.org/doc/scipy/reference/generated/scipy.stats.zscore.html)"
   ]
  },
  {
   "cell_type": "code",
   "execution_count": 27,
   "id": "6e9d7ca8",
   "metadata": {},
   "outputs": [
    {
     "data": {
      "text/plain": [
       "array([[-0.19264823, -1.28415119,  1.07259584,  0.40420358],\n",
       "       [ 0.33048416, -1.37380874,  0.04251374,  1.00081084],\n",
       "       [ 0.26796377, -1.12598418,  1.23283094, -0.37481053],\n",
       "       [-0.22095197,  0.24468594,  1.19042819, -1.21416216],\n",
       "       [-0.82780366,  1.4457416 , -0.43867764, -0.1792603 ]])"
      ]
     },
     "execution_count": 27,
     "metadata": {},
     "output_type": "execute_result"
    }
   ],
   "source": [
    "a = np.array([[ 0.3148,  0.0478,  0.6243,  0.4608],\n",
    "\n",
    "              [ 0.7149,  0.0775,  0.6072,  0.9656],\n",
    "\n",
    "              [ 0.6341,  0.1403,  0.9759,  0.4064],\n",
    "\n",
    "              [ 0.5918,  0.6948,  0.904 ,  0.3721],\n",
    "\n",
    "              [ 0.0921,  0.2481,  0.1188,  0.1366]])\n",
    "\n",
    "# using n-1 degrees of freedom (ddof=1) to calculate the standard deviation:\n",
    "stats.zscore(a, axis=1, ddof=1)"
   ]
  },
  {
   "cell_type": "markdown",
   "id": "66d5d0cc",
   "metadata": {},
   "source": [
    "`scipy.stats.sem(arr, axis=0, ddof=0) ` - used to compute the standard error of the mean of the input data. [(scipy documentation)](https://docs.scipy.org/doc/scipy/reference/generated/scipy.stats.sem.html)"
   ]
  },
  {
   "cell_type": "code",
   "execution_count": 28,
   "id": "fb596578",
   "metadata": {},
   "outputs": [
    {
     "name": "stdout",
     "output_type": "stream",
     "text": [
      "\n",
      "arr1 :  [[20, 2, 7, 1, 34], [50, 12, 12, 34, 4]]\n",
      "\n",
      "arr2 :  [50, 12, 12, 34, 4]\n",
      "\n",
      "sem ratio for arr1 :  [10.60660172  3.53553391  1.76776695 11.66726189 10.60660172]\n",
      "\n",
      "sem ratio for arr1 :  [5.62423328 7.61892381]\n",
      "\n",
      "sem ratio for arr1 :  7.618923808517841\n"
     ]
    }
   ],
   "source": [
    "# https://docs.scipy.org/doc/scipy/reference/generated/scipy.stats.sem.html\n",
    "# stats.sem() method \n",
    "\n",
    "#Input array or object having the elements to calculate the standard error.\n",
    "arr1 = [[20, 2, 7, 1, 34],\n",
    "        [50, 12, 12, 34, 4]]\n",
    "  \n",
    "arr2 = [50, 12, 12, 34, 4]\n",
    "  \n",
    "print (\"\\narr1 : \", arr1)\n",
    "print (\"\\narr2 : \", arr2)\n",
    "  \n",
    "\n",
    "# ddof : Degree of freedom correction for Standard Deviation.  \n",
    "# Results : standard error of the mean of the input data.\n",
    "print (\"\\nsem ratio for arr1 : \", \n",
    "       stats.sem(arr1, axis = 0, ddof = 0))\n",
    "  \n",
    "print (\"\\nsem ratio for arr1 : \", \n",
    "       stats.sem(arr1, axis = 1, ddof = 0))\n",
    "  \n",
    "print (\"\\nsem ratio for arr1 : \", \n",
    "       stats.sem(arr2, axis = 0, ddof = 0))"
   ]
  },
  {
   "cell_type": "markdown",
   "id": "5ab6c454",
   "metadata": {},
   "source": [
    "## Statistical tests with scipy.stats <a name = \"stattest\"></a>\n",
    "***\n",
    "\n",
    "Statistical tests are used in hypothesis testing. In general they can be used to determine whether an input variable has a statistically significant relationship with an output variable. They estimate the difference between two or more groups. \n",
    "\n",
    "The idea behind how a statistical test works is quite simple: they assume that a particular situation occurs, and then they estimate how likely this assumption is to be false. \n",
    "\n",
    "## P-value \n",
    "***\n",
    "The `p-value` stands for the `probability value`. It estimates how plausible it is, you would see the difference reported by the test statistic if the null hypothesis is true. The null hypotheses is that there is no significant difference among the groups.\n",
    "\n",
    "To say weather the p-value is significant or not, we need a significance threshold called the significance level; \n",
    "<div class=\"alert alert-success\">\n",
    "  <strong>Significance level explanation: </strong>\n",
    "\"In statistical hypothesis testing, a result has statistical significance when it is very unlikely to have occurred given the null hypothesis. More precisely, a study's defined significance level, denoted by `α` , is the probability of the study rejecting the null hypothesis, given that the null hypothesis was assumed to be true;and the p-value of a result, `p`, is the probability of obtaining a result at least as extreme, given that the null hypothesis is true. The result is statistically significant, by the standards of the study, when `p ≤ α` The significance level for a study is chosen before data collection, and is typically set to 5% or much lower—depending on the field of study.\" </div> \n",
    "\n",
    "[(statistical significance explanation)](https://en.wikipedia.org/wiki/Statistical_significance)\n",
    "\n",
    "The significance level threshold is usually set at 0.05. If the `p-value` is below the threshold, then we can infer a statisticall significant relationship between the input and target variables. Otherwise, we infer no statistically significant relationship between the predictor and the outcome variables. \n",
    "\n"
   ]
  },
  {
   "cell_type": "markdown",
   "id": "b3cd8904",
   "metadata": {},
   "source": [
    "### Scipy.stats Independent T-test <a name = \"indep_ttest\"> </a>\n",
    "***\n",
    "T-test assumptions\n",
    "***\n",
    "1. Distributions are normal\n",
    "2. Samples have equal variences\n",
    "3. the two samples are independent. \n",
    "\n",
    "The following data set is from an example on python data science and available to download from open source for data science [github](https://github.com/Opensourcefordatascience/Data-sets/blob/master/blood_pressure.csv) \n",
    "\n",
    "[(python for data science)](https://www.pythonfordatascience.org/independent-samples-t-test-python/)"
   ]
  },
  {
   "cell_type": "markdown",
   "id": "7fb4b7b8",
   "metadata": {},
   "source": [
    "<div class=\"alert alert-info\">\n",
    "  <strong>blood_pressure.csv:</strong>\n",
    "This data set is from open source data science, it contains patient, sex, age group, bp before and bp after, before and after do not really matter as it is a sample data set for machine learning. It is perfect for the scipy.stats overview as the focus in this section of the notebook is on the scipy.stats library rather than the data. </div>\n",
    "\n",
    "[data set available here](https://github.com/Opensourcefordatascience/Data-sets/blob/master/blood_pressure.csv)"
   ]
  },
  {
   "cell_type": "code",
   "execution_count": 29,
   "id": "882aaa02",
   "metadata": {},
   "outputs": [
    {
     "name": "stdout",
     "output_type": "stream",
     "text": [
      "<class 'pandas.core.frame.DataFrame'>\n",
      "RangeIndex: 120 entries, 0 to 119\n",
      "Data columns (total 5 columns):\n",
      " #   Column     Non-Null Count  Dtype \n",
      "---  ------     --------------  ----- \n",
      " 0   patient    120 non-null    int64 \n",
      " 1   sex        120 non-null    object\n",
      " 2   agegrp     120 non-null    object\n",
      " 3   bp_before  120 non-null    int64 \n",
      " 4   bp_after   120 non-null    int64 \n",
      "dtypes: int64(3), object(2)\n",
      "memory usage: 4.8+ KB\n"
     ]
    }
   ],
   "source": [
    "# load a dataset which is assumed to meet these assumptions. \n",
    "df = pd.read_csv(\"datasets/blood_pressure.csv\")\n",
    "df.info()"
   ]
  },
  {
   "cell_type": "markdown",
   "id": "a8e99e59",
   "metadata": {},
   "source": [
    "### T-test\n",
    "***\n",
    "\n",
    "`scipy.stats.ttest_ind(a, b, axis=0, equal_var=True, nan_policy='propagate', permutations=None, random_state=None, alternative='two-sided', trim=0)`\n",
    "- calculates the T-test of the means of two independent samples of scores. This test assumes that the populations have identical variances by default.[(stats documentation)](https://docs.scipy.org/doc/scipy/reference/generated/scipy.stats.ttest_ind.html)"
   ]
  },
  {
   "cell_type": "code",
   "execution_count": 30,
   "id": "7161e8d4",
   "metadata": {},
   "outputs": [
    {
     "data": {
      "text/plain": [
       "Ttest_indResult(statistic=3.3479506182111387, pvalue=0.0010930222986154283)"
      ]
     },
     "execution_count": 30,
     "metadata": {},
     "output_type": "execute_result"
    }
   ],
   "source": [
    "# conducts independent sample t-test and returns only the t test statistic and it's associated p-value\n",
    "stats.ttest_ind(df['bp_after'][df['sex'] == 'Male'],\n",
    "                df['bp_after'][df['sex'] == 'Female'])"
   ]
  },
  {
   "cell_type": "markdown",
   "id": "315be57a",
   "metadata": {},
   "source": [
    "<b> Result: </b>There is a statistically significant difference in the average post blood pressure between males and females, t score = 3.3480, p= 0.001. "
   ]
  },
  {
   "cell_type": "markdown",
   "id": "810deee9",
   "metadata": {},
   "source": [
    "### Shapiro-Wilk (SW) test <a name = \"sharpiro-wilk\"></a>\n",
    "***\n",
    "The shapiro-wilk test is used to look for evidence of non-normality. \n",
    "`scipy.stats.shapiro(x)` [(scipy documentation)](https://docs.scipy.org/doc/scipy/reference/generated/scipy.stats.normaltest.html)"
   ]
  },
  {
   "cell_type": "code",
   "execution_count": 31,
   "id": "2b7c84d7",
   "metadata": {},
   "outputs": [
    {
     "data": {
      "text/plain": [
       "ShapiroResult(statistic=0.98586106300354, pvalue=0.7147841453552246)"
      ]
     },
     "execution_count": 31,
     "metadata": {},
     "output_type": "execute_result"
    }
   ],
   "source": [
    "# Coming from independent t-test framework\n",
    "sampling_difference = df['bp_after'][df['sex'] == 'Male'].values - \\\n",
    "                      df['bp_after'][df['sex'] == 'Female'].values\n",
    "\n",
    "stats.shapiro(sampling_difference)"
   ]
  },
  {
   "cell_type": "markdown",
   "id": "6aab074e",
   "metadata": {},
   "source": [
    "<b>Result:</b> The test is not significant which indicates the sampling distribution is normally distributed. \n",
    "\n",
    "### scipy.stats.normaltest\n",
    "`scipy.stats.normaltest(a, axis=0, nan_policy='propagate')`\n",
    "- Test whether a sample differs from a normal distribution\n",
    "[(scipy documentation)](https://docs.scipy.org/doc/scipy/reference/generated/scipy.stats.normaltest.html)"
   ]
  },
  {
   "cell_type": "code",
   "execution_count": 32,
   "id": "35bb3e50",
   "metadata": {},
   "outputs": [
    {
     "data": {
      "text/plain": [
       "NormaltestResult(statistic=0.003175119018886905, pvalue=0.9984136999965528)"
      ]
     },
     "execution_count": 32,
     "metadata": {},
     "output_type": "execute_result"
    }
   ],
   "source": [
    "sampling_difference = df['bp_after'][df['sex'] == 'Male'].values - \\\n",
    "                    df['bp_after'][df['sex'] == 'Female'].values\n",
    "\n",
    "stats.normaltest(sampling_difference)"
   ]
  },
  {
   "cell_type": "markdown",
   "id": "198a0b2e",
   "metadata": {},
   "source": [
    "## scipy.stats.probplot\n",
    "`scipy.stats.probplot(x, sparams=(), dist='norm', fit=True, plot=None, rvalue=False)`\n",
    "- Calculate quantiles for a probability plot, and optionally show the plot \n",
    "[(scipy documentation)](https://docs.scipy.org/doc/scipy/reference/generated/scipy.stats.probplot.html)"
   ]
  },
  {
   "cell_type": "code",
   "execution_count": 33,
   "id": "f4659f33",
   "metadata": {},
   "outputs": [
    {
     "data": {
      "image/png": "[encoded data removed]",
      "text/plain": [
       "<Figure size 1080x720 with 1 Axes>"
      ]
     },
     "metadata": {},
     "output_type": "display_data"
    }
   ],
   "source": [
    "fig = plt.figure()\n",
    "ax = fig.add_subplot()\n",
    "\n",
    "normality_plot, stat = stats.probplot(sampling_difference, plot= plt, rvalue= True)\n",
    "ax.set_title(\"Probability plot of sampling difference\")\n",
    "ax.set\n",
    "\n",
    "plt.show()"
   ]
  },
  {
   "cell_type": "markdown",
   "id": "3ab7af48",
   "metadata": {},
   "source": [
    "### Kolmogorov-Smirnov (KS) test  <a name = \"KS\"> </a>\n",
    "***\n",
    "The Kolmogorov-Smirnov test is a distance test. It evaluates normality by comparing the data's empirical distribution function to the expected cumulative distribution function of the comparison distribution (Öztuna D., Elhan A., & Tüccar, 2006)\n",
    "\n",
    "Testing the difference between two groups can be done using `scipy.stats.ks_2samp(data1, data2)` "
   ]
  },
  {
   "cell_type": "code",
   "execution_count": 34,
   "id": "8349cb82",
   "metadata": {},
   "outputs": [
    {
     "data": {
      "text/plain": [
       "KstestResult(statistic=0.36666666666666664, pvalue=0.0005569710611454617)"
      ]
     },
     "execution_count": 34,
     "metadata": {},
     "output_type": "execute_result"
    }
   ],
   "source": [
    "stats.ks_2samp(df['bp_after'][df['sex'] == 'Male'],\n",
    "               df['bp_after'][df['sex'] == 'Female'])"
   ]
  },
  {
   "cell_type": "markdown",
   "id": "deab5d93",
   "metadata": {},
   "source": [
    "### Equality of Variance Tests  <a name = \"EQV\"> </a>\n",
    "***\n",
    "The equality of variance tests are basically the homogeneity of variance assumption test. This can be done in scipy.stats in two ways when it comes to Anova. \n",
    "\n",
    "\n",
    "### Barlett's test <a name = \"Barletts\"> </a>\n",
    "***\n",
    "<div class=\"alert alert-info\">\n",
    "    <strong>Note:</strong>\n",
    "Barletts test is named after Maurice stevenson Barlett, it is used to test homoscenedasticity. Homoscedasticity means \"same variance\" it is central to linear regression models. Homoscenedasticity is a situation in which the variance of the dependent variable is the same for all the data. </div>\n",
    "\n",
    "`scipy.stats.bartlett(*args)` \n",
    "Bartlett's test; tests the null hypothesis that all input samples are from populations with equal variances. [(scipy documentation)](https://docs.scipy.org/doc/scipy/reference/generated/scipy.stats.bartlett.html)\n",
    "\n"
   ]
  },
  {
   "cell_type": "code",
   "execution_count": 35,
   "id": "0f252cf4",
   "metadata": {},
   "outputs": [
    {
     "data": {
      "text/plain": [
       "BartlettResult(statistic=3.9379638422812793, pvalue=0.047207884641474476)"
      ]
     },
     "execution_count": 35,
     "metadata": {},
     "output_type": "execute_result"
    }
   ],
   "source": [
    "stats.bartlett(df['bp_after'][df['sex'] == 'Male'],\n",
    "               df['bp_after'][df['sex'] == 'Female'])"
   ]
  },
  {
   "cell_type": "markdown",
   "id": "a59b7905",
   "metadata": {},
   "source": [
    "### Levene's test  <a name = \"levene_test\"></a>\n",
    "***\n",
    "` scipy.stats.levene(*args, center='median', proportiontocut=0.05)`\n",
    "\n",
    " [Levene's test](https://docs.scipy.org/doc/scipy/reference/generated/scipy.stats.levene.html#scipy.stats.levene) is less sensitive than Barlett's test to departures from normality and power (Conover, 1981).Levene's test of homogeneity of variances can test for equality between 2 or more groups. "
   ]
  },
  {
   "cell_type": "code",
   "execution_count": 36,
   "id": "aeff39de",
   "metadata": {},
   "outputs": [
    {
     "data": {
      "text/plain": [
       "LeveneResult(statistic=5.0464151793144625, pvalue=0.026537264851214513)"
      ]
     },
     "execution_count": 36,
     "metadata": {},
     "output_type": "execute_result"
    }
   ],
   "source": [
    "# Using the mean\n",
    "stats.levene(df['bp_after'][df['sex'] == 'Male'],\n",
    "             df['bp_after'][df['sex'] == 'Female'])"
   ]
  },
  {
   "cell_type": "markdown",
   "id": "5820d9a1",
   "metadata": {},
   "source": [
    "<b> Result: </b> The test is significant, indicating that the groups differ in their levels of variation and that the t-test may not be the most appropriate statistical tool.\n",
    "It's also a good idea to double-check this assumption visually. "
   ]
  },
  {
   "cell_type": "code",
   "execution_count": 37,
   "id": "8325fd9b",
   "metadata": {},
   "outputs": [
    {
     "data": {
      "image/png": "[encoded data removed]",
      "text/plain": [
       "<Figure size 1080x720 with 1 Axes>"
      ]
     },
     "metadata": {},
     "output_type": "display_data"
    }
   ],
   "source": [
    "fig = plt.figure()\n",
    "ax = fig.add_subplot()\n",
    "\n",
    "p_bp_male = plt.hist(df['bp_after'][df['sex'] == 'Male'], label= \"Male\",\n",
    "                     density= True\n",
    "                     )\n",
    "                     \n",
    "p_bp_female = plt.hist(df['bp_after'][df['sex'] == 'Female'], label= \"Female\",\n",
    "                     density= True)\n",
    "                       \n",
    "plt.suptitle(\"Post-Blood Pressure \\n between Males and Females\")\n",
    "plt.xlabel(\"Blood Pressure\", fontsize= 14)\n",
    "plt.ylabel(\"Probability density\", fontsize= 14)\n",
    "\n",
    "plt.show()"
   ]
  },
  {
   "cell_type": "markdown",
   "id": "3576a4fe",
   "metadata": {},
   "source": [
    "# Anova <a name = \"Anova\"></a>\n",
    "The ANOVA name stands for 'ANalysis Of VAriance', it is a statistical test used to analyze the difference between the mean of more than two groups. All anovas are designed to test the differences among three or more groups. T-tests should be used to test the difference between two groups. \n"
   ]
  },
  {
   "cell_type": "markdown",
   "id": "5e2f551f",
   "metadata": {},
   "source": [
    "The intent of hypothesis testing is to formally examine two opposing hypotheses(conjectures), H(0) and H(a). \n",
    "  - H(0) is the Null Hypothesis where there is no significant difference among the groups.\n",
    "  - H(a) is the Alternate Hypothesis where there is a significant difference among the groups.\n",
    "  \n",
    "<br>\n",
    "These two hypotheses are mutually exclusive so that one is true to the exclusion of the other. The goal is to accumulate evidence and analyze sample information for the purpose of determining which of the two hypotheses is true and which is false. "
   ]
  },
  {
   "cell_type": "markdown",
   "id": "1c44baae",
   "metadata": {},
   "source": [
    "<div class=\"alert alert-success\">\n",
    "  <strong>Good quote: </strong> \" A fact is a simple statement that everyone believes. It’s innocent, unless found guilty. A Hypothesis is a novel suggestion that no one wants to believe. It’s guilty, until found effective.” – Edward Teller (Hungarian-born American theoretical physicist.) </div>\n",
    "  \n",
    "Using Anova helps a researcher determine if the variability of the outcomes is due to chance or to the factors of the analysis.  An Anova test is the first step in identifying factors that influence a given outcome. Once an Anova test is performed, a tester may be able to perform further analysis on the systematic factors that are statistically contributing to the data set's variability.  Variabillity refers to the divergence of data from its mean value. \n",
    "[(Investopedia)](https://www.investopedia.com/terms/v/variability.asp)\n",
    "\n",
    "An Anova test groups differences by comparing the means of each group, as well as distributing variation across several sources.\n",
    "It's used with subjects, test groups, groups within groups, and groups between groups. \n",
    "\n",
    "There are two main types of Anova: One-way and Two-way. The number of independent variables in your Anova test determines whether it is one-way or two-way. The impact of a single factor on a single response variable is assessed using a one-way Anova. It analyzes if observed differences in the means of independent (unrelated) groups can be explained solely by chance, or if there are any statistically significant differences between groups. \n",
    "One-way Anova is expanded into a two-way Anova if there are two independent variables. \n",
    "\n"
   ]
  },
  {
   "cell_type": "markdown",
   "id": "418b9f89",
   "metadata": {},
   "source": [
    "### One-way Anova <a name = \"one-wayAnova\"></a>\n",
    "\n",
    "***\n",
    "A one-way Anova is used for two or more groups of data, to gain information about the relationship between the dependent and independent variables. It is usually used when there are a minimum of three groups.It is an omnibus test, it tests for a difference overall, i.e. at least one of the groups is statistically significantly different than the others. \n",
    "However, if the ANOVA is signifcant, we can not tell which group is different, for this we have to conduct planned or post-hoc comparisons. As with all parametric tests, there are certain conditions that need to be met in order for the test results to be considered reliable. It is called one-way because the groups being tested are under one categorical variable and the name refers to the number of variables in the analysis and not the number of groups.  [(statsdirect.com)](https://www.statsdirect.com/help/analysis_of_variance/one_way.htm)\n",
    "\n",
    "<div class=\"alert alert-success\">\n",
    "  <strong>statsdirect Quote: </strong>\n",
    "\"When working from the Anova framework, independent variables are sometimes referred to as factors and the number of groups within each variable are called levels, i.e. one variable with 3 categories could be referred to as a factor with 3 levels.\"\n",
    "</div>\n",
    "\n",
    "[(statsdirect.com)](https://www.statsdirect.com/help/analysis_of_variance/one_way.htm)\n",
    "\n",
    "<br>\n",
    "\n",
    " \n",
    " The formula for one-way Anova is: \n",
    "      ![image](images/equation_one_way_anova.svg)\n",
    "\n",
    "\n",
    "[(image source)](https://www.statsdirect.com/help/analysis_of_variance/one_way.htm)\n",
    "\n",
    "<div class=\"alert alert-success\">\n",
    "  <strong>Python for data science explanation Quote: </strong> \"Numerically, one way ANOVA is a generalisation of the two sample t test. The F statistic compares the variability between the groups to the variability within the groups.\n",
    "- where F is the variance ratio for the overall test, MST is the mean square due to treatments/groups (between groups), MSE is the mean square due to error (within groups, residual mean square), Yij is an observation, Ti is a group total, G is the grand total of all observations, ni is the number in group i and n is the total number of observations.\" </div>\n",
    "    \n",
    "[(pythonfordatascience)](https://www.pythonfordatascience.org/anova-python/)\n"
   ]
  },
  {
   "cell_type": "markdown",
   "id": "3cf4ee84",
   "metadata": {},
   "source": [
    "## An example hypothesis test using Anova <a name = \"AnexamplehypothesistestusingANOVA\"></a>\n",
    "\n",
    "***\n",
    "\n",
    "\n",
    "Choosing the right data set, making sure it meets the underlying assumptions of Anova. \n"
   ]
  },
  {
   "cell_type": "markdown",
   "id": "60c0fc05",
   "metadata": {},
   "source": [
    "###  Assumptions of Anova <a name = \"anovass\"></a>\n",
    "\n",
    "***\n",
    "\n",
    "1. Independence. \n",
    "  - All samples are drawn independently of each other.\n",
    "  - Within each sample, the observations are sampled randomly and independently of each other.\n",
    "2. Normality\n",
    "  - Each group sample is drawn from a normally distributed population.\n",
    "3. Homogeneity of variances \n",
    "  - All comparison groups have a common variance.\n",
    "\n",
    "[(real-statistics.com)](https://www.real-statistics.com/one-way-analysis-of-variance-anova/assumptions-anova/)"
   ]
  },
  {
   "cell_type": "markdown",
   "id": "8831f507",
   "metadata": {},
   "source": [
    "### Choosing an appropriate data set: <a name =\"Choosing\"></a> \n",
    "***\n",
    "\n",
    "To choose an appropriate dataset for one-way anova, I researched Anova suited data sets and found a github called  [Open source for data science](https://github.com/Opensourcefordatascience/Data-sets). I downloaded [difficile.csv](https://github.com/Opensourcefordatascience/Data-sets/blob/master/difficile.csv), it is a fictitious data about the effects of clinical dosing on libido that was created to be used in an example of ANOVA at [python for data science.](https://www.pythonfordatascience.org/anova-python/)\n",
    "\n",
    "\n",
    "<div class=\"alert alert-info\">\n",
    "  <strong>about the dataset:</strong>\n",
    "\"A new medication was developed to increase the libido of those who take the medication. The purpose of this study was to test for a difference between the dosage levels. The overall average libido was 3.5 95% CI(2.5, 4.4) with group averages of 2.2 95% CI(0.9, 3.5) for the placebo group; 3.2 95% CI(1.9, 4.5) for the low dose group; and 5.0 95% CI(3.5, 6.5) for the high dose group. There is a statistically significant difference between the groups and their effects the libido, F= 5.12, p-value= 0.0247.\" \n",
    "</div>\n",
    "\n",
    "[(python for data science)](https://www.pythonfordatascience.org/anova-python/)\n"
   ]
  },
  {
   "cell_type": "code",
   "execution_count": 38,
   "id": "4f5fc3f5",
   "metadata": {},
   "outputs": [
    {
     "name": "stdout",
     "output_type": "stream",
     "text": [
      "<class 'pandas.core.frame.DataFrame'>\n",
      "RangeIndex: 15 entries, 0 to 14\n",
      "Data columns (total 2 columns):\n",
      " #   Column  Non-Null Count  Dtype \n",
      "---  ------  --------------  ----- \n",
      " 0   dose    15 non-null     object\n",
      " 1   libido  15 non-null     int64 \n",
      "dtypes: int64(1), object(1)\n",
      "memory usage: 368.0+ bytes\n"
     ]
    }
   ],
   "source": [
    "# loading data to take a high level look at the variables\n",
    "df = pd.read_csv(\"datasets/difficile.csv\")\n",
    "df.drop('person', axis= 1, inplace= True)\n",
    "\n",
    "# Recoding value from numeric to string\n",
    "df['dose'].replace({1: 'placebo', 2: 'low', 3: 'high'}, inplace= True)\n",
    "\n",
    "# dataset info\n",
    "df.info()"
   ]
  },
  {
   "cell_type": "code",
   "execution_count": 39,
   "id": "004d927c",
   "metadata": {},
   "outputs": [
    {
     "data": {
      "text/html": [
       "<div>\n",
       "<style scoped>\n",
       "    .dataframe tbody tr th:only-of-type {\n",
       "        vertical-align: middle;\n",
       "    }\n",
       "\n",
       "    .dataframe tbody tr th {\n",
       "        vertical-align: top;\n",
       "    }\n",
       "\n",
       "    .dataframe thead th {\n",
       "        text-align: right;\n",
       "    }\n",
       "</style>\n",
       "<table border=\"1\" class=\"dataframe\">\n",
       "  <thead>\n",
       "    <tr style=\"text-align: right;\">\n",
       "      <th></th>\n",
       "      <th>libido</th>\n",
       "    </tr>\n",
       "  </thead>\n",
       "  <tbody>\n",
       "    <tr>\n",
       "      <th>count</th>\n",
       "      <td>15.000000</td>\n",
       "    </tr>\n",
       "    <tr>\n",
       "      <th>mean</th>\n",
       "      <td>3.466667</td>\n",
       "    </tr>\n",
       "    <tr>\n",
       "      <th>std</th>\n",
       "      <td>1.767430</td>\n",
       "    </tr>\n",
       "    <tr>\n",
       "      <th>min</th>\n",
       "      <td>1.000000</td>\n",
       "    </tr>\n",
       "    <tr>\n",
       "      <th>25%</th>\n",
       "      <td>2.000000</td>\n",
       "    </tr>\n",
       "    <tr>\n",
       "      <th>50%</th>\n",
       "      <td>3.000000</td>\n",
       "    </tr>\n",
       "    <tr>\n",
       "      <th>75%</th>\n",
       "      <td>4.500000</td>\n",
       "    </tr>\n",
       "    <tr>\n",
       "      <th>max</th>\n",
       "      <td>7.000000</td>\n",
       "    </tr>\n",
       "  </tbody>\n",
       "</table>\n",
       "</div>"
      ],
      "text/plain": [
       "          libido\n",
       "count  15.000000\n",
       "mean    3.466667\n",
       "std     1.767430\n",
       "min     1.000000\n",
       "25%     2.000000\n",
       "50%     3.000000\n",
       "75%     4.500000\n",
       "max     7.000000"
      ]
     },
     "execution_count": 39,
     "metadata": {},
     "output_type": "execute_result"
    }
   ],
   "source": [
    "# data description\n",
    "df.describe()"
   ]
  },
  {
   "cell_type": "markdown",
   "id": "81e7b401",
   "metadata": {},
   "source": [
    "<b> Researchpy </b>\n",
    "***\n",
    "\n",
    "<div class=\"alert alert-info\">\n",
    "  <strong>Researchpy: </strong>\n",
    "\"Researchpy produces Pandas DataFrames that contain relevant statistical testing information. The information is returned as Pandas DataFrames to make for quick and easy exporting of results to any format/method that works with the traditional Pandas DataFrame. researchpy is essentially a wrapper that combines various established packages such as pandas, scipy.stats, and statsmodels to get all the standard required information in one method. \" </div>\n",
    "\n",
    "[researchpy](https://pypi.org/project/researchpy/)"
   ]
  },
  {
   "cell_type": "code",
   "execution_count": 40,
   "id": "9ff9803f",
   "metadata": {},
   "outputs": [
    {
     "name": "stdout",
     "output_type": "stream",
     "text": [
      "\n",
      "\n"
     ]
    },
    {
     "data": {
      "text/html": [
       "<div>\n",
       "<style scoped>\n",
       "    .dataframe tbody tr th:only-of-type {\n",
       "        vertical-align: middle;\n",
       "    }\n",
       "\n",
       "    .dataframe tbody tr th {\n",
       "        vertical-align: top;\n",
       "    }\n",
       "\n",
       "    .dataframe thead th {\n",
       "        text-align: right;\n",
       "    }\n",
       "</style>\n",
       "<table border=\"1\" class=\"dataframe\">\n",
       "  <thead>\n",
       "    <tr style=\"text-align: right;\">\n",
       "      <th></th>\n",
       "      <th>Variable</th>\n",
       "      <th>N</th>\n",
       "      <th>Mean</th>\n",
       "      <th>SD</th>\n",
       "      <th>SE</th>\n",
       "      <th>95% Conf.</th>\n",
       "      <th>Interval</th>\n",
       "    </tr>\n",
       "  </thead>\n",
       "  <tbody>\n",
       "    <tr>\n",
       "      <th>0</th>\n",
       "      <td>libido</td>\n",
       "      <td>15.0</td>\n",
       "      <td>3.4667</td>\n",
       "      <td>1.7674</td>\n",
       "      <td>0.4563</td>\n",
       "      <td>2.4879</td>\n",
       "      <td>4.4454</td>\n",
       "    </tr>\n",
       "  </tbody>\n",
       "</table>\n",
       "</div>"
      ],
      "text/plain": [
       "  Variable     N    Mean      SD      SE  95% Conf.  Interval\n",
       "0   libido  15.0  3.4667  1.7674  0.4563     2.4879    4.4454"
      ]
     },
     "execution_count": 40,
     "metadata": {},
     "output_type": "execute_result"
    }
   ],
   "source": [
    "# using researchpy for quick summary \n",
    "rp.summary_cont(df['libido'])"
   ]
  },
  {
   "cell_type": "code",
   "execution_count": 41,
   "id": "bdfc019b",
   "metadata": {},
   "outputs": [
    {
     "name": "stdout",
     "output_type": "stream",
     "text": [
      "\n",
      "\n"
     ]
    },
    {
     "data": {
      "text/html": [
       "<div>\n",
       "<style scoped>\n",
       "    .dataframe tbody tr th:only-of-type {\n",
       "        vertical-align: middle;\n",
       "    }\n",
       "\n",
       "    .dataframe tbody tr th {\n",
       "        vertical-align: top;\n",
       "    }\n",
       "\n",
       "    .dataframe thead th {\n",
       "        text-align: right;\n",
       "    }\n",
       "</style>\n",
       "<table border=\"1\" class=\"dataframe\">\n",
       "  <thead>\n",
       "    <tr style=\"text-align: right;\">\n",
       "      <th></th>\n",
       "      <th>N</th>\n",
       "      <th>Mean</th>\n",
       "      <th>SD</th>\n",
       "      <th>SE</th>\n",
       "      <th>95% Conf.</th>\n",
       "      <th>Interval</th>\n",
       "    </tr>\n",
       "    <tr>\n",
       "      <th>dose</th>\n",
       "      <th></th>\n",
       "      <th></th>\n",
       "      <th></th>\n",
       "      <th></th>\n",
       "      <th></th>\n",
       "      <th></th>\n",
       "    </tr>\n",
       "  </thead>\n",
       "  <tbody>\n",
       "    <tr>\n",
       "      <th>high</th>\n",
       "      <td>5</td>\n",
       "      <td>5.0</td>\n",
       "      <td>1.5811</td>\n",
       "      <td>0.7071</td>\n",
       "      <td>3.0368</td>\n",
       "      <td>6.9632</td>\n",
       "    </tr>\n",
       "    <tr>\n",
       "      <th>low</th>\n",
       "      <td>5</td>\n",
       "      <td>3.2</td>\n",
       "      <td>1.3038</td>\n",
       "      <td>0.5831</td>\n",
       "      <td>1.5811</td>\n",
       "      <td>4.8189</td>\n",
       "    </tr>\n",
       "    <tr>\n",
       "      <th>placebo</th>\n",
       "      <td>5</td>\n",
       "      <td>2.2</td>\n",
       "      <td>1.3038</td>\n",
       "      <td>0.5831</td>\n",
       "      <td>0.5811</td>\n",
       "      <td>3.8189</td>\n",
       "    </tr>\n",
       "  </tbody>\n",
       "</table>\n",
       "</div>"
      ],
      "text/plain": [
       "         N  Mean      SD      SE  95% Conf.  Interval\n",
       "dose                                                 \n",
       "high     5   5.0  1.5811  0.7071     3.0368    6.9632\n",
       "low      5   3.2  1.3038  0.5831     1.5811    4.8189\n",
       "placebo  5   2.2  1.3038  0.5831     0.5811    3.8189"
      ]
     },
     "execution_count": 41,
     "metadata": {},
     "output_type": "execute_result"
    }
   ],
   "source": [
    "# using researchpy for quick summary \n",
    "rp.summary_cont(df['libido'].groupby(df['dose']))"
   ]
  },
  {
   "cell_type": "markdown",
   "id": "abcab46a",
   "metadata": {},
   "source": [
    "StatsModels can produce an Anova table for one or more fitted linear models.\n",
    "<br>\n",
    "<b>  statsmodels.stats.anova.anova_lm(*args, **kwargs)</b> [statsmodels documentation](https://www.statsmodels.org/dev/generated/statsmodels.stats.anova.anova_lm.html)\n",
    "\n"
   ]
  },
  {
   "cell_type": "code",
   "execution_count": 42,
   "id": "d8cb7fef",
   "metadata": {},
   "outputs": [
    {
     "data": {
      "text/html": [
       "<div>\n",
       "<style scoped>\n",
       "    .dataframe tbody tr th:only-of-type {\n",
       "        vertical-align: middle;\n",
       "    }\n",
       "\n",
       "    .dataframe tbody tr th {\n",
       "        vertical-align: top;\n",
       "    }\n",
       "\n",
       "    .dataframe thead th {\n",
       "        text-align: right;\n",
       "    }\n",
       "</style>\n",
       "<table border=\"1\" class=\"dataframe\">\n",
       "  <thead>\n",
       "    <tr style=\"text-align: right;\">\n",
       "      <th></th>\n",
       "      <th>sum_sq</th>\n",
       "      <th>df</th>\n",
       "      <th>F</th>\n",
       "      <th>PR(&gt;F)</th>\n",
       "    </tr>\n",
       "  </thead>\n",
       "  <tbody>\n",
       "    <tr>\n",
       "      <th>C(dose)</th>\n",
       "      <td>20.133333</td>\n",
       "      <td>2.0</td>\n",
       "      <td>5.118644</td>\n",
       "      <td>0.024694</td>\n",
       "    </tr>\n",
       "    <tr>\n",
       "      <th>Residual</th>\n",
       "      <td>23.600000</td>\n",
       "      <td>12.0</td>\n",
       "      <td>NaN</td>\n",
       "      <td>NaN</td>\n",
       "    </tr>\n",
       "  </tbody>\n",
       "</table>\n",
       "</div>"
      ],
      "text/plain": [
       "             sum_sq    df         F    PR(>F)\n",
       "C(dose)   20.133333   2.0  5.118644  0.024694\n",
       "Residual  23.600000  12.0       NaN       NaN"
      ]
     },
     "execution_count": 42,
     "metadata": {},
     "output_type": "execute_result"
    }
   ],
   "source": [
    "# import statsmodels\n",
    "import statsmodels.api as sm\n",
    "from statsmodels.formula.api import ols\n",
    "\n",
    "#create statsmodels table\n",
    "model = ols('libido ~ C(dose)', data=df).fit()\n",
    "aov_table = sm.stats.anova_lm(model, typ=2)\n",
    "aov_table"
   ]
  },
  {
   "cell_type": "markdown",
   "id": "6af618fe",
   "metadata": {},
   "source": [
    "### Testing Assumptions: <a name = \"Assumptions\"></a>\n",
    "\n",
    "references: [Ian Mc loughlin one-way anova notebook](https://github.com/ianmcloughlin/python_anova/blob/main/one_way_anova.ipynb), \n",
    "[statistics.laerd.com](https://statistics.laerd.com/spss-tutorials/one-way-anova-using-spss-statistics.php)"
   ]
  },
  {
   "cell_type": "markdown",
   "id": "1e9b4d0e",
   "metadata": {},
   "source": [
    "\n",
    "\n",
    "#### Assumption 1: Dependent variable\n",
    "\n",
    "***"
   ]
  },
  {
   "cell_type": "code",
   "execution_count": 43,
   "id": "42526640",
   "metadata": {},
   "outputs": [
    {
     "data": {
      "text/plain": [
       "0     3\n",
       "1     2\n",
       "2     1\n",
       "3     1\n",
       "4     4\n",
       "5     5\n",
       "6     2\n",
       "7     4\n",
       "8     2\n",
       "9     3\n",
       "10    7\n",
       "11    4\n",
       "12    5\n",
       "13    3\n",
       "14    6\n",
       "Name: libido, dtype: int64"
      ]
     },
     "execution_count": 43,
     "metadata": {},
     "output_type": "execute_result"
    }
   ],
   "source": [
    "# The dependent variable.\n",
    "dependent = df['libido']\n",
    "dependent"
   ]
  },
  {
   "cell_type": "code",
   "execution_count": 44,
   "id": "49e2b8e0",
   "metadata": {},
   "outputs": [
    {
     "data": {
      "text/plain": [
       "count    15.000000\n",
       "mean      3.466667\n",
       "std       1.767430\n",
       "min       1.000000\n",
       "25%       2.000000\n",
       "50%       3.000000\n",
       "75%       4.500000\n",
       "max       7.000000\n",
       "Name: libido, dtype: float64"
      ]
     },
     "execution_count": 44,
     "metadata": {},
     "output_type": "execute_result"
    }
   ],
   "source": [
    "# independent variable description\n",
    "dependent.describe()"
   ]
  },
  {
   "cell_type": "markdown",
   "id": "31e84ba3",
   "metadata": {},
   "source": [
    "<br>\n",
    "\n",
    "#### Assumption 2: Independent variable\n",
    "\n",
    "***"
   ]
  },
  {
   "cell_type": "code",
   "execution_count": 45,
   "id": "7280f11c",
   "metadata": {},
   "outputs": [
    {
     "data": {
      "text/plain": [
       "0     placebo\n",
       "1     placebo\n",
       "2     placebo\n",
       "3     placebo\n",
       "4     placebo\n",
       "5         low\n",
       "6         low\n",
       "7         low\n",
       "8         low\n",
       "9         low\n",
       "10       high\n",
       "11       high\n",
       "12       high\n",
       "13       high\n",
       "14       high\n",
       "Name: dose, dtype: object"
      ]
     },
     "execution_count": 45,
     "metadata": {},
     "output_type": "execute_result"
    }
   ],
   "source": [
    "# Independent variable.\n",
    "independent = df['dose']\n",
    "independent"
   ]
  },
  {
   "cell_type": "markdown",
   "id": "d3b767a7",
   "metadata": {},
   "source": [
    "<br>\n",
    "\n",
    "#### Assumption 3: You should have independence of observations\n",
    "***\n",
    "- each entry of the variables are independent of eachother. "
   ]
  },
  {
   "cell_type": "markdown",
   "id": "a3d9bd53",
   "metadata": {},
   "source": [
    "<br>\n",
    "\n",
    "#### Assumption 4: Outliers\n",
    "\n",
    "***"
   ]
  },
  {
   "cell_type": "code",
   "execution_count": 46,
   "id": "bce69fed",
   "metadata": {},
   "outputs": [
    {
     "data": {
      "text/plain": [
       "<AxesSubplot:xlabel='libido', ylabel='dose'>"
      ]
     },
     "execution_count": 46,
     "metadata": {},
     "output_type": "execute_result"
    },
    {
     "data": {
      "image/png": "[encoded data removed]",
      "text/plain": [
       "<Figure size 1080x720 with 1 Axes>"
      ]
     },
     "metadata": {},
     "output_type": "display_data"
    }
   ],
   "source": [
    "# boxplot of dependent and independent variables\n",
    "# https://seaborn.pydata.org/generated/seaborn.boxplot.html\n",
    "sns.boxplot(x=dependent, y=independent)"
   ]
  },
  {
   "cell_type": "markdown",
   "id": "ea1908bc",
   "metadata": {},
   "source": [
    "<br>\n",
    "\n",
    "#### Assumption 5: Normality\n",
    "\n",
    "***"
   ]
  },
  {
   "cell_type": "code",
   "execution_count": 47,
   "id": "74e2ddc3",
   "metadata": {},
   "outputs": [
    {
     "data": {
      "text/plain": [
       "<seaborn.axisgrid.FacetGrid at 0x2c9872b1e80>"
      ]
     },
     "execution_count": 47,
     "metadata": {},
     "output_type": "execute_result"
    },
    {
     "data": {
      "image/png": "[encoded data removed]",
      "text/plain": [
       "<Figure size 435.125x360 with 1 Axes>"
      ]
     },
     "metadata": {},
     "output_type": "display_data"
    }
   ],
   "source": [
    "# KDEs of the three categories.\n",
    "sns.displot(x=dependent, hue=independent, kind=\"kde\")"
   ]
  },
  {
   "cell_type": "markdown",
   "id": "5021263b",
   "metadata": {},
   "source": [
    "#### scipy.stats.shapiro(x)\n",
    "***\n",
    "\n",
    "Perform the Shapiro-Wilk test for normality.\n",
    "\n",
    "The Shapiro-Wilk test tests the null hypothesis that the data was drawn from a normal distribution.[(scipy documentation)](https://docs.scipy.org/doc/scipy/reference/generated/scipy.stats.shapiro.html)"
   ]
  },
  {
   "cell_type": "code",
   "execution_count": 48,
   "id": "1e412adc",
   "metadata": {},
   "outputs": [
    {
     "data": {
      "text/plain": [
       "5    5\n",
       "6    2\n",
       "7    4\n",
       "8    2\n",
       "9    3\n",
       "Name: libido, dtype: int64"
      ]
     },
     "execution_count": 48,
     "metadata": {},
     "output_type": "execute_result"
    }
   ],
   "source": [
    "# Extract low dose variable\n",
    "low_dose = dependent[independent == 'low']\n",
    "low_dose"
   ]
  },
  {
   "cell_type": "code",
   "execution_count": 49,
   "id": "300f679d",
   "metadata": {},
   "outputs": [
    {
     "data": {
      "text/plain": [
       "ShapiroResult(statistic=0.902019739151001, pvalue=0.421149343252182)"
      ]
     },
     "execution_count": 49,
     "metadata": {},
     "output_type": "execute_result"
    }
   ],
   "source": [
    "stats.shapiro(low_dose)"
   ]
  },
  {
   "cell_type": "code",
   "execution_count": 50,
   "id": "6239c4c4",
   "metadata": {},
   "outputs": [
    {
     "data": {
      "text/plain": [
       "10    7\n",
       "11    4\n",
       "12    5\n",
       "13    3\n",
       "14    6\n",
       "Name: libido, dtype: int64"
      ]
     },
     "execution_count": 50,
     "metadata": {},
     "output_type": "execute_result"
    }
   ],
   "source": [
    "# Extract high dose variable\n",
    "high_dose = dependent[independent == 'high']\n",
    "high_dose"
   ]
  },
  {
   "cell_type": "code",
   "execution_count": 51,
   "id": "0fa5c197",
   "metadata": {},
   "outputs": [
    {
     "data": {
      "text/plain": [
       "ShapiroResult(statistic=0.9867621660232544, pvalue=0.9671739339828491)"
      ]
     },
     "execution_count": 51,
     "metadata": {},
     "output_type": "execute_result"
    }
   ],
   "source": [
    "# Run the Shapiro-Wilk test.\n",
    "stats.shapiro(high_dose)"
   ]
  },
  {
   "cell_type": "code",
   "execution_count": 52,
   "id": "2c7518f5",
   "metadata": {},
   "outputs": [
    {
     "data": {
      "text/plain": [
       "0    3\n",
       "1    2\n",
       "2    1\n",
       "3    1\n",
       "4    4\n",
       "Name: libido, dtype: int64"
      ]
     },
     "execution_count": 52,
     "metadata": {},
     "output_type": "execute_result"
    }
   ],
   "source": [
    "# Run the Shapiro-Wilk test.\n",
    "placebo = dependent[independent == 'placebo']\n",
    "placebo"
   ]
  },
  {
   "cell_type": "code",
   "execution_count": 53,
   "id": "e5b75f52",
   "metadata": {},
   "outputs": [
    {
     "data": {
      "text/plain": [
       "ShapiroResult(statistic=0.902019739151001, pvalue=0.421149343252182)"
      ]
     },
     "execution_count": 53,
     "metadata": {},
     "output_type": "execute_result"
    }
   ],
   "source": [
    "# Run the Shapiro-Wilk test.\n",
    "stats.shapiro(placebo)"
   ]
  },
  {
   "cell_type": "markdown",
   "id": "b0c430ee",
   "metadata": {},
   "source": [
    "\n",
    "##### scipy.stats.probplot(x, sparams=(), dist='norm', fit=True, plot=None, rvalue=False)\n",
    "\n",
    "***\n",
    "\n",
    "- Calculate quantiles for a probability plot, and optionally show the plot.\n",
    "\n",
    "\n",
    "[scipy.stats.probplot](https://docs.scipy.org/doc/scipy/reference/generated/scipy.stats.probplot.html)"
   ]
  },
  {
   "cell_type": "code",
   "execution_count": 54,
   "id": "5ad56267",
   "metadata": {},
   "outputs": [
    {
     "data": {
      "image/png": "[encoded data removed]",
      "text/plain": [
       "<Figure size 720x720 with 1 Axes>"
      ]
     },
     "metadata": {},
     "output_type": "display_data"
    }
   ],
   "source": [
    "# plot \n",
    "fig = plt.figure(figsize= (10, 10))\n",
    "ax = fig.add_subplot(111)\n",
    "\n",
    "# generating probability plot of model residuals \n",
    "normality_plot, stat = stats.probplot(model.resid, plot= plt, rvalue= True)\n",
    "ax.set_title(\"Probability plot of model residual's\", fontsize= 20)\n",
    "ax.set\n",
    "\n",
    "plt.show()\n"
   ]
  },
  {
   "cell_type": "markdown",
   "id": "4048d3b4",
   "metadata": {},
   "source": [
    "The statistical testing method indicated the residuals were normally distributed, but the probability plot correlation coefficient (PPCC) indicated non-normality. "
   ]
  },
  {
   "cell_type": "markdown",
   "id": "4462180c",
   "metadata": {},
   "source": [
    "<br>\n",
    "\n",
    "#### Assumption 6: Homogeneity of Variances\n",
    "\n",
    "https://docs.scipy.org/doc/scipy/reference/generated/scipy.stats.levene.html\n",
    "\n",
    "https://statistics.laerd.com/statistical-guides/independent-t-test-statistical-guide.php\n",
    "\n",
    "***\n",
    "\n",
    "\n",
    "\n",
    "##### scipy.stats.levene(*args, center='median', proportiontocut=0.05)\n",
    "***\n",
    "\n",
    "- Perform Levene test for equal variances.\n",
    "\n",
    "The Levene test tests the null hypothesis that all input samples are from populations with equal variances. [scipy documentation](https://docs.scipy.org/doc/scipy/reference/generated/scipy.stats.levene.html)"
   ]
  },
  {
   "cell_type": "code",
   "execution_count": 55,
   "id": "22e6db72",
   "metadata": {},
   "outputs": [
    {
     "data": {
      "text/plain": [
       "LeveneResult(statistic=0.11764705882352934, pvalue=0.8900225182757423)"
      ]
     },
     "execution_count": 55,
     "metadata": {},
     "output_type": "execute_result"
    }
   ],
   "source": [
    "# tesing for equal variances\n",
    "stats.levene(df['libido'][df['dose'] == 'high'],\n",
    "             df['libido'][df['dose'] == 'low'],\n",
    "             df['libido'][df['dose'] == 'placebo'])"
   ]
  },
  {
   "cell_type": "markdown",
   "id": "d82774ae",
   "metadata": {},
   "source": [
    "The levene's test is non-significant, it indicated that the groups have non-statistically significant differences in their variability. The null hypothesis cannot be rejected if a `p-value` is more than 0.05. It means we cannot conclude that a significant difference exists. "
   ]
  },
  {
   "cell_type": "code",
   "execution_count": 56,
   "id": "dc66335e",
   "metadata": {},
   "outputs": [
    {
     "data": {
      "image/png": "[encoded data removed]",
      "text/plain": [
       "<Figure size 720x720 with 1 Axes>"
      ]
     },
     "metadata": {},
     "output_type": "display_data"
    }
   ],
   "source": [
    "fig = plt.figure(figsize= (10, 10))\n",
    "ax = fig.add_subplot(111)\n",
    "\n",
    "ax.set_title(\"Box Plot of Libido by Dosage\", fontsize= 20)\n",
    "ax.set\n",
    "\n",
    "data = [df['libido'][df['dose'] == 'placebo'],\n",
    "        df['libido'][df['dose'] == 'low'],\n",
    "        df['libido'][df['dose'] == 'high']]\n",
    "\n",
    "ax.boxplot(data,\n",
    "           labels= ['Placebo', 'Low', 'High'],\n",
    "           showmeans= True)\n",
    "\n",
    "plt.xlabel(\"Drug Dosage\")\n",
    "plt.ylabel(\"Libido Score\")\n",
    "\n",
    "plt.show()"
   ]
  },
  {
   "cell_type": "markdown",
   "id": "596bd08d",
   "metadata": {},
   "source": [
    "The graphical testing of homogeneity of variances supports the statistical testing findings that the groups have equal variance. "
   ]
  },
  {
   "cell_type": "markdown",
   "id": "902e6e9e",
   "metadata": {},
   "source": [
    "<br>\n",
    "\n",
    "## Conducting an one-way ANOVA using scipy.stats<a name = \"conducting\" ></a>\n",
    "***\n",
    "\n",
    "\n",
    "#### scipy.stats.f_oneway(*args, axis=0)\n",
    "\n",
    "Perform one-way Anova.\n",
    "\n",
    "The one-way Anova tests the null hypothesis that two or more groups have the same population mean. The test is applied to samples from two or more groups, possibly with differing sizes.[(scipy documentation)](https://docs.scipy.org/doc/scipy/reference/generated/scipy.stats.f_oneway.html) If no true variance exists between the groups, the ANOVA's F-ratio should equal close to 1."
   ]
  },
  {
   "cell_type": "code",
   "execution_count": 57,
   "id": "9bfb86cb",
   "metadata": {},
   "outputs": [
    {
     "data": {
      "text/plain": [
       "F_onewayResult(statistic=5.11864406779661, pvalue=0.024694289538222603)"
      ]
     },
     "execution_count": 57,
     "metadata": {},
     "output_type": "execute_result"
    }
   ],
   "source": [
    "stats.f_oneway(df['libido'][df['dose'] == 'high'],\n",
    "               df['libido'][df['dose'] == 'low'],\n",
    "               df['libido'][df['dose'] == 'placebo'])"
   ]
  },
  {
   "cell_type": "markdown",
   "id": "549ce3a4",
   "metadata": {},
   "source": [
    "<b>Conclusion: </b> the mean libido of high, low, and placebo doses are different which supports the alternative hypothesis. H(a). The `p-value` is below 0.05 so we can reject the null hypotheses, H(0). The `F-value` is inversely related to `p-value` and higher `F-value` (greater than F critical value) indicates a significant p value. [(Data science blog)](https://www.reneshbedre.com/blog/anova.html)"
   ]
  },
  {
   "cell_type": "markdown",
   "id": "78e5d2cb",
   "metadata": {},
   "source": [
    "### Unequal Variances (Welch ANOVA)\n",
    "***"
   ]
  },
  {
   "cell_type": "markdown",
   "id": "5c83dbe5",
   "metadata": {},
   "source": [
    "The following code is from an example in lectures. (Ian Mc Loughlin, 2021), It is a code to be used to perform Anova when the variance is not equal. It is a welch Anova and the function is not included in scipy.stats. \"Welch's ANOVA compares two means to see if they are equal. It is an alternative to the Classic ANOVA and can be used even if your data violates the assumption of homogeneity of variances.\" (statisticshowto.com). It was posted on github by \"duke08542\", November 2019. Although true variance exists between the groups chosen for this example hypothesis test using Anova, I still wanted to use it to see the result. "
   ]
  },
  {
   "cell_type": "code",
   "execution_count": 58,
   "id": "691a0cba",
   "metadata": {},
   "outputs": [],
   "source": [
    "# https://github.com/scipy/scipy/issues/11122#issueco\n",
    "\n",
    "def welch_anova_np(*args, var_equal=False):\n",
    "    # https://svn.r-project.org/R/trunk/src/library/stats/R/oneway.test.R\n",
    "    # translated from R Welch ANOVA (not assuming equal variance)\n",
    "\n",
    "    F_onewayResult = co.namedtuple('F_onewayResult', ('statistic', 'pvalue'))\n",
    "\n",
    "    args = [np.asarray(arg, dtype=float) for arg in args]\n",
    "    k = len(args)\n",
    "    ni = np.array([len(arg) for arg in args])\n",
    "    mi = np.array([np.mean(arg) for arg in args])\n",
    "    vi = np.array([np.var(arg,ddof=1) for arg in args])\n",
    "    wi = ni/vi\n",
    "\n",
    "    tmp =sum((1-wi/sum(wi))**2 / (ni-1))\n",
    "    tmp /= (k**2 -1)\n",
    "\n",
    "    dfbn = k - 1\n",
    "    dfwn = 1 / (3 * tmp)\n",
    "\n",
    "    m = sum(mi*wi) / sum(wi)\n",
    "    f = sum(wi * (mi - m)**2) /((dfbn) * (1 + 2 * (dfbn - 1) * tmp))\n",
    "    prob = spec.fdtrc(dfbn, dfwn, f)   # equivalent to stats.f.sf\n",
    "    return F_onewayResult(f, prob)"
   ]
  },
  {
   "cell_type": "code",
   "execution_count": 59,
   "id": "9ead4362",
   "metadata": {},
   "outputs": [
    {
     "data": {
      "text/plain": [
       "F_onewayResult(statistic=4.3204511728135735, pvalue=0.05373847071167276)"
      ]
     },
     "execution_count": 59,
     "metadata": {},
     "output_type": "execute_result"
    }
   ],
   "source": [
    "# Perform the test.\n",
    "welch_anova_np(low_dose, placebo, high_dose)"
   ]
  },
  {
   "cell_type": "markdown",
   "id": "e78da0c0",
   "metadata": {},
   "source": [
    "### Post-hoc Testing <a name = \"Post-hocTesting\"> <a/>\n",
    "***\n"
   ]
  },
  {
   "cell_type": "markdown",
   "id": "75cc376b",
   "metadata": {},
   "source": [
    "statsmodels uses Tukey Honestly Significant Difference (HSD) to produce the following. \n",
    "<b> statsmodels.stats.multicomp.pairwise_tukeyhsd(endog, groups, alpha=0.05 </b> \n",
    "Calculate all pairwise comparisons with TukeyHSD confidence intervals [(statsmodels documentation)](https://www.statsmodels.org/dev/generated/statsmodels.stats.multicomp.pairwise_tukeyhsd.html)"
   ]
  },
  {
   "cell_type": "code",
   "execution_count": 60,
   "id": "a78fe92a",
   "metadata": {},
   "outputs": [
    {
     "data": {
      "text/html": [
       "<table class=\"simpletable\">\n",
       "<caption>Multiple Comparison of Means - Tukey HSD, FWER=0.05</caption>\n",
       "<tr>\n",
       "  <th>group1</th> <th>group2</th>  <th>meandiff</th>  <th>p-adj</th>  <th>lower</th>   <th>upper</th>  <th>reject</th>\n",
       "</tr>\n",
       "<tr>\n",
       "   <td>high</td>    <td>low</td>     <td>-1.8</td>   <td>0.1472</td> <td>-4.1651</td> <td>0.5651</td>   <td>False</td>\n",
       "</tr>\n",
       "<tr>\n",
       "   <td>high</td>  <td>placebo</td>   <td>-2.8</td>   <td>0.0209</td> <td>-5.1651</td> <td>-0.4349</td>  <td>True</td> \n",
       "</tr>\n",
       "<tr>\n",
       "    <td>low</td>  <td>placebo</td>   <td>-1.0</td>   <td>0.5171</td> <td>-3.3651</td> <td>1.3651</td>   <td>False</td>\n",
       "</tr>\n",
       "</table>"
      ],
      "text/plain": [
       "<class 'statsmodels.iolib.table.SimpleTable'>"
      ]
     },
     "execution_count": 60,
     "metadata": {},
     "output_type": "execute_result"
    }
   ],
   "source": [
    "import statsmodels.stats.multicomp as mc\n",
    "\n",
    "comp = mc.MultiComparison(df['libido'], df['dose'])\n",
    "post_hoc_res = comp.tukeyhsd()\n",
    "post_hoc_res.summary()"
   ]
  },
  {
   "cell_type": "markdown",
   "id": "9b6fb0bd",
   "metadata": {},
   "source": [
    "- group1 and group2 columns are the groups being compared\n",
    "- meandiff is the difference between the group means\n",
    "- p-adj is the corrected p-value which takes into account the multiple comparisons being conducted\n",
    "- lower is the lower band of the confidence interval.\n",
    "- upper is the upper band of the confidence interval.\n",
    "- reject is the decision rule based on the corrected p-value \n",
    "\n",
    "[(python for datascience)](https://www.pythonfordatascience.org/home)\n",
    "\n",
    "Plot the difference with <b> statsmodels.sandbox.stats.multicomp.TukeyHSDResults.plot_simultaneous</b>\n",
    "\n",
    "\n",
    "[(statsmodels documentation)](https://www.statsmodels.org/dev/generated/statsmodels.sandbox.stats.multicomp.TukeyHSDResults.plot_simultaneous.html)\n"
   ]
  },
  {
   "cell_type": "code",
   "execution_count": 61,
   "id": "ea1295bc",
   "metadata": {},
   "outputs": [
    {
     "data": {
      "image/png": "[encoded data removed]",
      "text/plain": [
       "<Figure size 720x432 with 1 Axes>"
      ]
     },
     "execution_count": 61,
     "metadata": {},
     "output_type": "execute_result"
    },
    {
     "data": {
      "image/png": "[encoded data removed]",
      "text/plain": [
       "<Figure size 720x432 with 1 Axes>"
      ]
     },
     "metadata": {},
     "output_type": "display_data"
    }
   ],
   "source": [
    "post_hoc_res.plot_simultaneous(ylabel= \"Drug Dose\", xlabel= \"Score Difference\")"
   ]
  },
  {
   "cell_type": "markdown",
   "id": "40843775",
   "metadata": {},
   "source": [
    "<b> Result: </b> \n",
    "\n",
    "<div class=\"alert alert-success\">\n",
    " There is a statistically significant difference in libido score between those who took the placebo and those who took the high dosage of the medication. This tells us that the medication made a significant difference to libido and that the medication works. Again, it is good to remember that this is a ficticious dataset that was designed to show this results. </div>"
   ]
  },
  {
   "cell_type": "markdown",
   "id": "573e3ed3",
   "metadata": {},
   "source": [
    "## Two-way Anova Using scipy.stats<a name = \"twoway\"></a>\n",
    "***"
   ]
  },
  {
   "cell_type": "markdown",
   "id": "af3ed86b",
   "metadata": {},
   "source": [
    "A two-way Anova test is a statistical test used to determine the effect of two nominal predictor variables on a continuous outcome variable. It tests the effects of two independent variables on a dependent variable. \n"
   ]
  },
  {
   "cell_type": "markdown",
   "id": "cfc51449",
   "metadata": {},
   "source": [
    "For a suitable two way anova dataset I found this example on [rpubs.com](https://rpubs.com/lgreski/toothgrowthanova) in R programming language and used it as a guide to implement it in python with help with the maths from [(machinelearningmastery.com)](https://machinelearningmastery.com/how-to-code-the-students-t-test-from-scratch-in-python/)\n",
    "\n",
    "\n",
    "<div class=\"alert alert-info\">\n",
    "  <strong>about the dataset: </strong>\n",
    "\"Executive Summary\n",
    "In the 1940s, researchers were interested developing bioassays of vitamin C, because the Canadian government had difficulty providing natural sources of the vitamin to their armed forces during most of the year (Crampton, p. 491). Because guinea pigs (like humans) do not metabolize their own vitamin C, the Winter Institute of Anatomy and Biology developed a bioassay of vitamin C by testing it on guinea pigs. Analysis of the ToothGrowth data from Crampton’s 1947 analysis in the Journal of Nutrition demonstrates that:\n",
    "\n",
    "Increasing dose is associated with higher tooth growth,\n",
    "Orange Juice produced more tooth growth than Vitamin C at lower doses (0.5 and 1.0 mg), and\n",
    "Both Orange Juice and Vitamin C produced equal tooth growth at a 2.0 mg dose.\" </div>\n",
    "\n",
    "[rpubs.com](https://rpubs.com/lgreski/toothgrowthanova)\n",
    "\n",
    "The ToothGrowth.csv data set can be found on github, at: [Rdatasets/datasets.](https://github.com/vincentarelbundock/Rdatasets/blob/master/csv/datasets/ToothGrowth.csv) \n"
   ]
  },
  {
   "cell_type": "code",
   "execution_count": 62,
   "id": "9b5d72fd",
   "metadata": {},
   "outputs": [
    {
     "data": {
      "text/html": [
       "<div>\n",
       "<style scoped>\n",
       "    .dataframe tbody tr th:only-of-type {\n",
       "        vertical-align: middle;\n",
       "    }\n",
       "\n",
       "    .dataframe tbody tr th {\n",
       "        vertical-align: top;\n",
       "    }\n",
       "\n",
       "    .dataframe thead th {\n",
       "        text-align: right;\n",
       "    }\n",
       "</style>\n",
       "<table border=\"1\" class=\"dataframe\">\n",
       "  <thead>\n",
       "    <tr style=\"text-align: right;\">\n",
       "      <th></th>\n",
       "      <th>len</th>\n",
       "      <th>supp</th>\n",
       "      <th>dose</th>\n",
       "    </tr>\n",
       "  </thead>\n",
       "  <tbody>\n",
       "    <tr>\n",
       "      <th>1</th>\n",
       "      <td>4.2</td>\n",
       "      <td>VC</td>\n",
       "      <td>0.5</td>\n",
       "    </tr>\n",
       "    <tr>\n",
       "      <th>2</th>\n",
       "      <td>11.5</td>\n",
       "      <td>VC</td>\n",
       "      <td>0.5</td>\n",
       "    </tr>\n",
       "    <tr>\n",
       "      <th>3</th>\n",
       "      <td>7.3</td>\n",
       "      <td>VC</td>\n",
       "      <td>0.5</td>\n",
       "    </tr>\n",
       "    <tr>\n",
       "      <th>4</th>\n",
       "      <td>5.8</td>\n",
       "      <td>VC</td>\n",
       "      <td>0.5</td>\n",
       "    </tr>\n",
       "    <tr>\n",
       "      <th>5</th>\n",
       "      <td>6.4</td>\n",
       "      <td>VC</td>\n",
       "      <td>0.5</td>\n",
       "    </tr>\n",
       "  </tbody>\n",
       "</table>\n",
       "</div>"
      ],
      "text/plain": [
       "    len supp  dose\n",
       "1   4.2   VC   0.5\n",
       "2  11.5   VC   0.5\n",
       "3   7.3   VC   0.5\n",
       "4   5.8   VC   0.5\n",
       "5   6.4   VC   0.5"
      ]
     },
     "execution_count": 62,
     "metadata": {},
     "output_type": "execute_result"
    }
   ],
   "source": [
    "df = pd.read_csv(\"datasets/ToothGrowth.csv\", index_col=0)\n",
    "df.head()"
   ]
  },
  {
   "cell_type": "markdown",
   "id": "3d993e52",
   "metadata": {},
   "source": [
    "### Using seaborn to visualise data\n",
    "***"
   ]
  },
  {
   "cell_type": "code",
   "execution_count": 63,
   "id": "2aaa627b",
   "metadata": {},
   "outputs": [
    {
     "data": {
      "image/png": "[encoded data removed]",
      "text/plain": [
       "<Figure size 1080x720 with 1 Axes>"
      ]
     },
     "metadata": {},
     "output_type": "display_data"
    }
   ],
   "source": [
    "ax = sns.pointplot(x='dose', y='len', hue='supp', data=df)"
   ]
  },
  {
   "cell_type": "markdown",
   "id": "5ba31ab9",
   "metadata": {},
   "source": [
    "### Calculating the Sum of Squares \n",
    "***\n",
    "\n",
    "The sum of squares (the variance in the data) can be easily calculated using Python. First we determine the sample size (N) and the number of degrees of freedom required. These are used to calculate the mean square later on. \n",
    "There are two variables to consider. The question is whether our variable in question tooth length (len) is related to the two other variables supplement and dose by the equation:\n",
    "`len = supp + dose + supp * dose`\n",
    "[(machinelearningmastery.com)](https://machinelearningmastery.com/how-to-code-the-students-t-test-from-scratch-in-python/)\n",
    "\n",
    "### First calculate the degrees of freedom\n",
    "***\n",
    "\n",
    "[(machinelearningmastery.com)](https://machinelearningmastery.com/how-to-code-the-students-t-test-from-scratch-in-python/)"
   ]
  },
  {
   "cell_type": "code",
   "execution_count": 64,
   "id": "efc6d614",
   "metadata": {},
   "outputs": [],
   "source": [
    "N = len(df.len)\n",
    "df_supplement = len(df.supp.unique()) - 1\n",
    "df_dosage = len(df.dose.unique()) - 1\n",
    "df_suppXdose = df_supplement*df_dosage\n",
    "df_within = N - (len(df.supp.unique())*len(df.dose.unique()))"
   ]
  },
  {
   "cell_type": "markdown",
   "id": "a7933a10",
   "metadata": {},
   "source": [
    "### Calculating the grand mean\n",
    "***\n",
    "\n",
    "The grand mean is needed to calculate the sum of squares of supplement and dose.\n",
    "[(machinelearningmastery.com)](https://machinelearningmastery.com/how-to-code-the-students-t-test-from-scratch-in-python/)"
   ]
  },
  {
   "cell_type": "code",
   "execution_count": 65,
   "id": "aa480268",
   "metadata": {},
   "outputs": [],
   "source": [
    "grand_mean = df['len'].mean()"
   ]
  },
  {
   "cell_type": "markdown",
   "id": "4b8e8528",
   "metadata": {},
   "source": [
    "## calculating sum of squares for supplment, dose and total\n",
    "***\n",
    "[(machinelearningmastery.com)](https://machinelearningmastery.com/how-to-code-the-students-t-test-from-scratch-in-python/)"
   ]
  },
  {
   "cell_type": "code",
   "execution_count": 66,
   "id": "a6aca3d8",
   "metadata": {},
   "outputs": [],
   "source": [
    "# Sum of Squares supplement\n",
    "ssq_supplement = sum([(df[df.supp == l].len.mean() - grand_mean)**2 for l in df.supp])\n",
    "# Sum of Squares dose \n",
    "ssq_dose = sum([(df[df.dose ==l].len.mean() - grand_mean)**2 for l in df.dose])\n",
    "# Sum of Squares Total\n",
    "ssq_total = sum((df.len - grand_mean)**2)"
   ]
  },
  {
   "cell_type": "markdown",
   "id": "f75db79a",
   "metadata": {},
   "source": [
    "## sum of squares error and residual \n",
    "***\n",
    "[(machinelearningmastery.com)](https://machinelearningmastery.com/how-to-code-the-students-t-test-from-scratch-in-python/)"
   ]
  },
  {
   "cell_type": "code",
   "execution_count": 67,
   "id": "cff5698b",
   "metadata": {},
   "outputs": [],
   "source": [
    "vc = df[df.supp == 'VC']\n",
    "oj = df[df.supp == 'OJ']\n",
    "vc_dose_means = [vc[vc.dose == d].len.mean() for d in vc.dose]\n",
    "oj_dose_means = [oj[oj.dose == d].len.mean() for d in oj.dose]\n",
    "ssq_within = sum((oj.len - oj_dose_means)**2) +sum((vc.len - vc_dose_means)**2)"
   ]
  },
  {
   "cell_type": "markdown",
   "id": "0fda8937",
   "metadata": {},
   "source": [
    "### In a two-way Anova we need to calculate the Sum of squares for the interaction of Supplement and dose \n",
    "***\n",
    "[(machinelearningmastery.com)](https://machinelearningmastery.com/how-to-code-the-students-t-test-from-scratch-in-python/)"
   ]
  },
  {
   "cell_type": "code",
   "execution_count": 68,
   "id": "c1816fdd",
   "metadata": {},
   "outputs": [],
   "source": [
    "# Interaction calculation \n",
    "ssq_suppXdose = ssq_total - ssq_supplement - ssq_dose - ssq_within"
   ]
  },
  {
   "cell_type": "markdown",
   "id": "a02fe62c",
   "metadata": {},
   "source": [
    "### Mean square calcualtion the interaction within the factors\n",
    "***\n",
    "[(machinelearningmastery.com)](https://machinelearningmastery.com/how-to-code-the-students-t-test-from-scratch-in-python/)"
   ]
  },
  {
   "cell_type": "code",
   "execution_count": 69,
   "id": "6fb35d1f",
   "metadata": {},
   "outputs": [],
   "source": [
    "# Mean Square supplpement\n",
    "ms_supplement = ssq_supplement/df_supplement\n",
    "\n",
    "# Mean Square dose\n",
    "ms_dose = ssq_dose/df_dosage\n",
    "\n",
    "# Mean Square supplement * dose \n",
    "ms_suppXdose = ssq_suppXdose/df_suppXdose\n",
    "\n",
    "# Mean Square Within/Error/Residual\n",
    "ms_within = ssq_within/df_within"
   ]
  },
  {
   "cell_type": "markdown",
   "id": "86cfaa31",
   "metadata": {},
   "source": [
    "### F- ratio\n",
    "***\n",
    "The F-statistic is simply the mean squares divided by the mean square for error/residuals.\n",
    "\n",
    "[(machinelearningmastery.com)](https://machinelearningmastery.com/how-to-code-the-students-t-test-from-scratch-in-python/)"
   ]
  },
  {
   "cell_type": "code",
   "execution_count": 70,
   "id": "a39aa4ac",
   "metadata": {},
   "outputs": [],
   "source": [
    "# F-ratio supplement\n",
    "f_supplement = ms_supplement/ms_within\n",
    "# F-ratio dose\n",
    "f_dose = ms_dose/ms_within\n",
    "# F-ratio supplement * dose \n",
    "f_suppXdose = ms_suppXdose/ms_within"
   ]
  },
  {
   "cell_type": "markdown",
   "id": "1c24af1f",
   "metadata": {},
   "source": [
    "### Back to scipy.stats \n",
    "***\n",
    "## scipy.stats.f\n",
    "***\n",
    "`scipy.stats.f = <scipy.stats._continuous_distns.f_gen object>`\n",
    "The F distribution (or the Fisher–Snedecor distribution) is commonly used in Anova. It is a probability density function. \n",
    "In scipy.stats it comes with many methods as listed below; [(scipy documentation)](https://docs.scipy.org/doc/scipy/reference/generated/scipy.stats.f.html)\n",
    "\n",
    "![image](images/scipy_stats_f.png)\n",
    "\n",
    "[image source](https://docs.scipy.org/doc/scipy/reference/generated/scipy.stats.f.html)\n",
    "\n",
    "\n",
    "`scipy.stats.f.sf(x, dfn, dfd, loc=0, scale=1)`\n",
    "can be used to check if the obtained F-ratios is above the critical value, To do so, we must use our F-value for each effect and interaction, as well as their degrees of freedom and the degree of freedom within each effect and interaction. [(scipy documentation)](https://docs.scipy.org/doc/scipy/reference/generated/scipy.stats.f.html)"
   ]
  },
  {
   "cell_type": "code",
   "execution_count": 71,
   "id": "2ae2900c",
   "metadata": {},
   "outputs": [],
   "source": [
    "p_supplement = stats.f.sf(f_supplement, df_supplement, df_within)\n",
    "p_dose = stats.f.sf(f_dose, df_dosage, df_within)\n",
    "p_suppXdose = stats.f.sf(f_suppXdose, df_suppXdose, df_within)"
   ]
  },
  {
   "cell_type": "markdown",
   "id": "50efd6d7",
   "metadata": {},
   "source": [
    "## Creating a table for the results "
   ]
  },
  {
   "cell_type": "code",
   "execution_count": 72,
   "id": "2957242f",
   "metadata": {},
   "outputs": [
    {
     "data": {
      "text/html": [
       "<div>\n",
       "<style scoped>\n",
       "    .dataframe tbody tr th:only-of-type {\n",
       "        vertical-align: middle;\n",
       "    }\n",
       "\n",
       "    .dataframe tbody tr th {\n",
       "        vertical-align: top;\n",
       "    }\n",
       "\n",
       "    .dataframe thead th {\n",
       "        text-align: right;\n",
       "    }\n",
       "</style>\n",
       "<table border=\"1\" class=\"dataframe\">\n",
       "  <thead>\n",
       "    <tr style=\"text-align: right;\">\n",
       "      <th></th>\n",
       "      <th>sum_sq</th>\n",
       "      <th>df</th>\n",
       "      <th>F</th>\n",
       "      <th>PR(&gt;F)</th>\n",
       "    </tr>\n",
       "  </thead>\n",
       "  <tbody>\n",
       "    <tr>\n",
       "      <th>supp</th>\n",
       "      <td>205.350000</td>\n",
       "      <td>1</td>\n",
       "      <td>15.571979</td>\n",
       "      <td>0.000231</td>\n",
       "    </tr>\n",
       "    <tr>\n",
       "      <th>dose</th>\n",
       "      <td>2426.434333</td>\n",
       "      <td>2</td>\n",
       "      <td>91.999965</td>\n",
       "      <td>0.0</td>\n",
       "    </tr>\n",
       "    <tr>\n",
       "      <th>supp:dose</th>\n",
       "      <td>108.319000</td>\n",
       "      <td>2</td>\n",
       "      <td>4.106991</td>\n",
       "      <td>0.02186</td>\n",
       "    </tr>\n",
       "    <tr>\n",
       "      <th>Residual</th>\n",
       "      <td>712.106000</td>\n",
       "      <td>54</td>\n",
       "      <td>NaN</td>\n",
       "      <td>NaN</td>\n",
       "    </tr>\n",
       "  </tbody>\n",
       "</table>\n",
       "</div>"
      ],
      "text/plain": [
       "                sum_sq  df          F    PR(>F)\n",
       "supp        205.350000   1  15.571979  0.000231\n",
       "dose       2426.434333   2  91.999965       0.0\n",
       "supp:dose   108.319000   2   4.106991   0.02186\n",
       "Residual    712.106000  54        NaN       NaN"
      ]
     },
     "execution_count": 72,
     "metadata": {},
     "output_type": "execute_result"
    }
   ],
   "source": [
    "results = {'sum_sq':[ssq_supplement, ssq_dose, ssq_suppXdose , ssq_within],\n",
    "           'df':[df_supplement, df_dosage, df_suppXdose , df_within],\n",
    "           'F':[f_supplement, f_dose, f_suppXdose , 'NaN'],\n",
    "            'PR(>F)':[p_supplement, p_dose, p_suppXdose , 'NaN']}\n",
    "\n",
    "columns=['sum_sq', 'df', 'F', 'PR(>F)']\n",
    "\n",
    "anova_table = pd.DataFrame(results, columns=columns,\n",
    "                          index=['supp', 'dose', \n",
    "                          'supp:dose', 'Residual'])\n",
    "anova_table"
   ]
  },
  {
   "cell_type": "markdown",
   "id": "b5c92f9b",
   "metadata": {},
   "source": [
    "### Two-way Anova table using Statsmodels\n",
    "***\n",
    "The same table can be produced quickly and efficiently using statsmodels. [(statsmodels documentation)](https://www.statsmodels.org/stable/anova.html)"
   ]
  },
  {
   "cell_type": "code",
   "execution_count": 73,
   "id": "d1e5caaa",
   "metadata": {},
   "outputs": [
    {
     "name": "stdout",
     "output_type": "stream",
     "text": [
      "                sum_sq    df           F        PR(>F)\n",
      "supp        205.350000   1.0   12.317020  8.936452e-04\n",
      "dose       2224.304298   1.0  133.415146  1.907985e-16\n",
      "supp:dose    88.920107   1.0    5.333483  2.463136e-02\n",
      "Residual    933.634929  56.0         NaN           NaN\n"
     ]
    }
   ],
   "source": [
    "# ANOVA using statsmodels\n",
    "model = ols('len~supp+dose+supp:dose', df).fit()\n",
    "anova_table_statsmodels = anova_lm(model, typ=2)\n",
    "\n",
    "print(anova_table_statsmodels)"
   ]
  },
  {
   "cell_type": "markdown",
   "id": "c62a8cd9",
   "metadata": {},
   "source": [
    "Statsmodels also has a method to produce a more detailed table as seen below, \n",
    "[(titanwold.org)](https://www.titanwolf.org/Network/q/52a25a04-6c60-4932-a24e-042a2661b652/y)"
   ]
  },
  {
   "cell_type": "code",
   "execution_count": 74,
   "id": "18315621",
   "metadata": {},
   "outputs": [
    {
     "name": "stdout",
     "output_type": "stream",
     "text": [
      "                            OLS Regression Results                            \n",
      "==============================================================================\n",
      "Dep. Variable:                    len   R-squared:                       0.730\n",
      "Model:                            OLS   Adj. R-squared:                  0.715\n",
      "Method:                 Least Squares   F-statistic:                     50.36\n",
      "Date:                Sun, 02 Jan 2022   Prob (F-statistic):           6.52e-16\n",
      "Time:                        06:43:11   Log-Likelihood:                -167.48\n",
      "No. Observations:                  60   AIC:                             343.0\n",
      "Df Residuals:                      56   BIC:                             351.3\n",
      "Df Model:                           3                                         \n",
      "Covariance Type:            nonrobust                                         \n",
      "===================================================================================\n",
      "                      coef    std err          t      P>|t|      [0.025      0.975]\n",
      "-----------------------------------------------------------------------------------\n",
      "Intercept          11.5500      1.581      7.304      0.000       8.382      14.718\n",
      "supp[T.VC]         -8.2550      2.236     -3.691      0.001     -12.735      -3.775\n",
      "dose                7.8114      1.195      6.534      0.000       5.417      10.206\n",
      "supp[T.VC]:dose     3.9043      1.691      2.309      0.025       0.518       7.291\n",
      "==============================================================================\n",
      "Omnibus:                        1.508   Durbin-Watson:                   1.688\n",
      "Prob(Omnibus):                  0.471   Jarque-Bera (JB):                1.169\n",
      "Skew:                           0.097   Prob(JB):                        0.558\n",
      "Kurtosis:                       2.344   Cond. No.                         10.9\n",
      "==============================================================================\n",
      "\n",
      "Notes:\n",
      "[1] Standard Errors assume that the covariance matrix of the errors is correctly specified.\n",
      "                sum_sq    df           F        PR(>F)\n",
      "supp        205.350000   1.0   12.317020  8.936452e-04\n",
      "dose       2224.304298   1.0  133.415146  1.907985e-16\n",
      "supp:dose    88.920107   1.0    5.333483  2.463136e-02\n",
      "Residual    933.634929  56.0         NaN           NaN\n"
     ]
    }
   ],
   "source": [
    "# fit model to data to obtain parameter estimates\n",
    "my_model_fit = smf.ols(formula='len~supp+dose+supp:dose', data=df).fit()\n",
    "# print summary of linear regression\n",
    "print(my_model_fit.summary())\n",
    "# show anova table\n",
    "print(sm.stats.anova_lm(my_model_fit, typ=2))\n"
   ]
  },
  {
   "cell_type": "markdown",
   "id": "dcbc40da",
   "metadata": {},
   "source": [
    "## Conclusion\n",
    "***\n",
    "The stats module is a very important feature of SciPy. It can be used to generate probabilistic distributions.  SciPy Stats can create random numbers that are discrete or continuous.  It also has a number of other functions for generating descriptive statistical data. Although scipy stats has many great features it is much more beneficial to use alongside other statistical python libraries such as statsmodels especially when performing Anova.\n",
    "\n"
   ]
  },
  {
   "cell_type": "markdown",
   "id": "55cfdee3",
   "metadata": {},
   "source": [
    "# References <a name = References></a>\n",
    "\n",
    "\n",
    "- Ian McLoughlin course material\n",
    "- Ian Mc loughlin jupyter teaching notebooks [test.ipynb](https://nbviewer.org/github/ianmcloughlin/jupyter-teaching-notebooks/blob/main/ttest.ipynb), [random_values.ipynb](https://github.com/ianmcloughlin/jupyter-teaching-notebooks/blob/main/random_values.ipynb), [one-way_anova.ipynb](https://github.com/ianmcloughlin/python_anova/blob/main/one_way_anova.ipynb)\n",
    "- Statistical functions (scipy.stats) — SciPy v1.7.1 Manual, many scipy.stats features referenced throughout the notebook,  from [Scipy documentation](https://docs.scipy.org/doc/scipy/reference/stats.html) [Accessed September-December 2021]\n",
    "- SciPy - Stats [Tutorialspoint.com](https://www.tutorialspoint.com/scipy/scipy_stats.htm)\n",
    "- How Analysis of Variance (ANOVA) Works\n",
    "[Investopedia](https://www.investopedia.com/terms/a/anova.asp)\n",
    "- What is ANOVA (Analysis Of Variance) | Qualtrics\n",
    "[Qualtrics](https://www.qualtrics.com/uk/experience-management/research/anova/?rid=ip&prevsite=en&newsite=uk&geo=IE&geomatch=uk)\n",
    "- P.F. Dubois, editor. Python: batteries included, volume 9 of Computing in Science & Engineering. IEEE/AIP, May 2007 [available here](http://csc.ucdavis.edu/~cmg/Group/readings/pythonissue_1of4.pdf) [Accessed 5 November 2021]\n",
    "-[scipy.stats.ttest_ind](https://docs.scipy.org/doc/scipy/reference/generated/scipy.stats.ttest_ind.html) [Accessed: November 2021]\n",
    "-[scipy.stats.ttest_1samp](https://docs.scipy.org/doc/scipy/reference/generated/scipy.stats.ttest_1samp.html) [Accessed: November 2021]\n",
    "-[scipy.stats.ttest_rel](https://docs.scipy.org/doc/scipy/reference/generated/scipy.stats.ttest_rel.html) [Accessed: November 2021]\n",
    "- One-way ANOVA in SPSS Statistics - Step-by-step procedure including testing of assumptions, [Statistics.laerd.com](https://statistics.laerd.com/spss-tutorials/one-way-anova-using-spss-statistics.php) [Accessed: November 2021]\n",
    "- Virtanen P, Gommers R, Oliphant TE, Haberland M, Reddy T, Cournapeau D, Burovski E, Peterson P, Weckesser W, Bright J, van der Walt SJ. SciPy 1.0: fundamental algorithms for scientific computing in Python. Nature methods. 2020 Mar;17(3):261-72\n",
    "- Renesh Bedre , \"ANOVA using Python (with examples)\", [www.reneshbedre.com](https://www.reneshbedre.com/blog/anova.html)[Accessed: 20 November 2021]\n",
    "- Guest Blog — June 8, 2020 , \"Introduction to ANOVA for Statistics and Data Science (with COVID-19 Case Study using Python)\"[analyticvidhya.com](https://www.analyticsvidhya.com/blog/2020/06/introduction-anova-statistics-data-science-covid-python/) [Accessed: November 2021]\n",
    "-  One-way ANOVA with Python, available at: [python for data science](https://www.pythonfordatascience.org/anova-python/)\n",
    "- Statistics in Python - Using ANOVA for Feature Selection, [towardsdatascience](https://towardsdatascience.com/statistics-in-python-using-anova-for-feature-selection-b4dc876ef4f0) [Accessed: November 2021]\n",
    "- Python Examples of scipy.stats.f_oneway [programcreek](https://www.programcreek.com/python/example/55221/scipy.stats.f_oneway) [Accessed: November 2021]\n",
    "- Opensourcefordatascience/Data-sets: Data sets used in examples , [Opensourcefordatascience](https://github.com/Opensourcefordatascience/Data-sets) [Accessed: November 2021]\n",
    "- Probability Distributions in Python Tutorial, [datacamp](https://www.datacamp.com/community/tutorials/probability-distributions-python) [Accessed: November 2021]\n",
    "- geeks for geeeks, \"scipy stats mode function\", 11 Feb, 2019 [available at](https://www.geeksforgeeks.org/scipy-stats-mode-function-python/). [accessed 13/12/2021]\n",
    "- geeks for geeks \"scipy stats skew python\", 11 feb 2019, [available at](https://www.geeksforgeeks.org/scipy-stats-skew-python/). [Accessed 13/12/2021]\n",
    "- real-statistics.com, \"Assumptions for Anova\", [available at](https://www.real-statistics.com/one-way-analysis-of-variance-anova/assumptions-anova/), [Accessed: Decmeber 2021]\n",
    "- geeks for geeks \"scipy stats.kurtosis() function | Python\", [available at](https://www.geeksforgeeks.org/scipy-stats-kurtosis-function-python/?ref=gcse) [Accessed December 2021]\n",
    "- Python for data science, \"Independent T-Test\", [available at](https://www.pythonfordatascience.org/independent-samples-t-test-python/), [Accessed December 2021]\n",
    "- Conover, W.J., Johnson, M.E. and Johnson, M.M. (1981) A Comparative Study of Tests for Homogeneity of Variances, with Applications to the Outer Continental Shelf Bidding Data. Technometrics, 23, 351-361. [available at](http://dx.doi.org/10.1080/00401706.1981.10487680), [Accessed: December 2021]\n",
    "- Jason Brownlee, \"How to Code the Student's t-Test from Scratch in Python\", available at: [(machinelearningmastery.com)](https://machinelearningmastery.com/how-to-code-the-students-t-test-from-scratch-in-python/)\n",
    "- ANOVA — statsmodels, [statsmodels documentation](https://www.statsmodels.org/stable/anova.html)\n",
    "- Titanwolf.,org, \"Question : 2-way ANOVA in Python statsmodels yields different Sum of Squares than SPSS\", [available at](https://www.titanwolf.org/Network/q/52a25a04-6c60-4932-a24e-042a2661b652/y)\n",
    "-  \tRPubs - Commentary on ToothGrowth Factorial ANOVA, available at: [rpubs.com](https://rpubs.com/lgreski/toothgrowthanova)\n",
    "- DERYA ÖZTUNA, \"Investigation of Four Different Normality Tests in Terms of Type 1 Error Rate and Power under Different Distributions\", available at: [Journals.tubitak.gov.tr.](https://journals.tubitak.gov.tr/medical/abstract.htm?id=8332)\n",
    "- Statistics How To, \"Welch's ANOVA: Definition, Assumptions\", available at: [statisticshowto.com](https://www.statisticshowto.com/welchs-anova)\n",
    "- \tRenesh Bedre, \"ANOVA using Python (with examples)\" available at: [Data science blog](https://www.reneshbedre.com/blog/anova.html)\n",
    "\n",
    "***\n",
    "\n",
    "## End"
   ]
  }
 ],
 "metadata": {
  "kernelspec": {
   "display_name": "Python 3",
   "language": "python",
   "name": "python3"
  },
  "language_info": {
   "codemirror_mode": {
    "name": "ipython",
    "version": 3
   },
   "file_extension": ".py",
   "mimetype": "text/x-python",
   "name": "python",
   "nbconvert_exporter": "python",
   "pygments_lexer": "ipython3",
   "version": "3.8.8"
  }
 },
 "nbformat": 4,
 "nbformat_minor": 5
}
